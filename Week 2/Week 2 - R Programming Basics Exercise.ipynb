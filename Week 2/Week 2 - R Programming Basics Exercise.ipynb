{
 "cells": [
  {
   "cell_type": "markdown",
   "metadata": {},
   "source": [
    "![](Logo.png)"
   ]
  },
  {
   "cell_type": "markdown",
   "metadata": {},
   "source": [
    "# <font color='red'>Introduction to R Programming: Basics</font>"
   ]
  },
  {
   "cell_type": "markdown",
   "metadata": {},
   "source": [
    "Based on the R programming basics lecture topics:\n",
    " * Basic Data Types\n",
    " * Basic Arithmatic\n",
    " * Vectors\n",
    " * Vector Operations\n",
    " * Comparison Operators\n",
    " * Vector Selection, Indexing and Slicing"
   ]
  },
  {
   "cell_type": "markdown",
   "metadata": {},
   "source": [
    "This exercise should be straightforward and is designed to be a review of the lecture material. Don't expect something very challenging yet. Simply just want to establish a baseline for everyone. Exercises later on this semester will progressively get more challenging (but fun) so it's important to understand these concepts now."
   ]
  },
  {
   "cell_type": "markdown",
   "metadata": {},
   "source": [
    "## Solve the following using R\n",
    "\n",
    "**What is two to the power of five?**"
   ]
  },
  {
   "cell_type": "code",
   "execution_count": null,
   "metadata": {},
   "outputs": [],
   "source": []
  },
  {
   "cell_type": "markdown",
   "metadata": {},
   "source": [
    "32"
   ]
  },
  {
   "cell_type": "markdown",
   "metadata": {},
   "source": [
    "**Create a vector called peanut.weight with the following data points:**\n",
    "\n",
    "89.4, 78.2, 91.4, 95.2, 105.5"
   ]
  },
  {
   "cell_type": "code",
   "execution_count": null,
   "metadata": {},
   "outputs": [],
   "source": []
  },
  {
   "cell_type": "markdown",
   "metadata": {},
   "source": [
    "89.4 78.2 91.4 95.2 105.5"
   ]
  },
  {
   "cell_type": "markdown",
   "metadata": {},
   "source": [
    "**Assign the following names (in order) to the peanut.weight vector:**\n",
    "\n",
    "Sullivan, Bailey, Bailey II, Emery, Wynne"
   ]
  },
  {
   "cell_type": "code",
   "execution_count": null,
   "metadata": {},
   "outputs": [],
   "source": []
  },
  {
   "cell_type": "markdown",
   "metadata": {},
   "source": [
    "**Sullivan** 89.4\n",
    "<br>**Bailey** 78.2\n",
    "<br>**Bailey II** 91.4\n",
    "<br>**Emery** 95.2\n",
    "<br>**Wynne** 105.5"
   ]
  },
  {
   "cell_type": "markdown",
   "metadata": {},
   "source": [
    "**What was the average weight of all peanut lines?**"
   ]
  },
  {
   "cell_type": "code",
   "execution_count": null,
   "metadata": {},
   "outputs": [],
   "source": []
  },
  {
   "cell_type": "markdown",
   "metadata": {},
   "source": [
    "91.94"
   ]
  },
  {
   "cell_type": "markdown",
   "metadata": {},
   "source": [
    "**Create a vector called over.90 consisting of logicals that correspond to the peanut lines where the weight was more than 90 grams per 100 seeds**"
   ]
  },
  {
   "cell_type": "code",
   "execution_count": null,
   "metadata": {},
   "outputs": [],
   "source": []
  },
  {
   "cell_type": "markdown",
   "metadata": {},
   "source": [
    "**Bailey II** 91.4\n",
    "<br>**Emery** 95.2\n",
    "<br>**Wynne** 105.5"
   ]
  },
  {
   "cell_type": "markdown",
   "metadata": {},
   "source": [
    "**Use a built-in R function to find the peanut line with the smallest seed in over.90**"
   ]
  },
  {
   "cell_type": "code",
   "execution_count": null,
   "metadata": {},
   "outputs": [],
   "source": []
  },
  {
   "cell_type": "markdown",
   "metadata": {},
   "source": [
    "**Bailey II:** 91.4"
   ]
  },
  {
   "cell_type": "markdown",
   "metadata": {},
   "source": [
    "**Format the following variables to print the resulting sentence**\n",
    "\n",
    "Cultivar = 'Bailey II'\n",
    "<br>Weight = '91.4 grams per 100 seeds'"
   ]
  },
  {
   "cell_type": "code",
   "execution_count": null,
   "metadata": {},
   "outputs": [],
   "source": []
  },
  {
   "cell_type": "markdown",
   "metadata": {},
   "source": [
    "'The cultivar Bailey II has a seed weight of 91.4 grams per 100 seeds'"
   ]
  }
 ],
 "metadata": {
  "kernelspec": {
   "display_name": "R",
   "language": "R",
   "name": "ir"
  },
  "language_info": {
   "codemirror_mode": "r",
   "file_extension": ".r",
   "mimetype": "text/x-r-source",
   "name": "R",
   "pygments_lexer": "r",
   "version": "3.6.1"
  }
 },
 "nbformat": 4,
 "nbformat_minor": 2
}
