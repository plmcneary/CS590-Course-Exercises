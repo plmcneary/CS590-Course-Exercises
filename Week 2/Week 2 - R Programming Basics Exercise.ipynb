{
 "cells": [
  {
   "cell_type": "markdown",
   "metadata": {},
   "source": [
    "![](Logo.png)"
   ]
  },
  {
   "cell_type": "markdown",
   "metadata": {},
   "source": [
    "# <font color='red'>Introduction to R Programming: Basics</font>"
   ]
  },
  {
   "cell_type": "markdown",
   "metadata": {},
   "source": [
    "Based on the R programming basics lecture topics:\n",
    " * Basic Data Types\n",
    " * Basic Arithmatic\n",
    " * Vectors\n",
    " * Vector Operations\n",
    " * Comparison Operators\n",
    " * Vector Selection, Indexing and Slicing"
   ]
  },
  {
   "cell_type": "markdown",
   "metadata": {},
   "source": [
    "This exercise should be straightforward and is designed to be a review of the lecture material. Don't expect something very challenging yet. Simply just want to establish a baseline for everyone. Exercises later on this semester will progressively get more challenging (but fun) so it's important to understand these concepts now."
   ]
  },
  {
   "cell_type": "markdown",
   "metadata": {},
   "source": [
    "## Solve the following using R\n",
    "\n",
    "**What is two to the power of five?**"
   ]
  },
  {
   "cell_type": "code",
   "execution_count": 1,
   "metadata": {},
   "outputs": [
    {
     "data": {
      "text/html": [
       "32"
      ],
      "text/latex": [
       "32"
      ],
      "text/markdown": [
       "32"
      ],
      "text/plain": [
       "[1] 32"
      ]
     },
     "metadata": {},
     "output_type": "display_data"
    }
   ],
   "source": [
    "2^5"
   ]
  },
  {
   "cell_type": "markdown",
   "metadata": {},
   "source": [
    "32"
   ]
  },
  {
   "cell_type": "markdown",
   "metadata": {},
   "source": [
    "**Create a vector called peanut.weight with the following data points:**\n",
    "\n",
    "89.4, 78.2, 91.4, 95.2, 105.5"
   ]
  },
  {
   "cell_type": "code",
   "execution_count": 5,
   "metadata": {},
   "outputs": [],
   "source": [
    "peanut.weight <- c(89.4, 78.2, 91.4, 95.2, 105.5)"
   ]
  },
  {
   "cell_type": "code",
   "execution_count": 6,
   "metadata": {},
   "outputs": [
    {
     "data": {
      "text/html": [
       "<ol class=list-inline>\n",
       "\t<li>89.4</li>\n",
       "\t<li>78.2</li>\n",
       "\t<li>91.4</li>\n",
       "\t<li>95.2</li>\n",
       "\t<li>105.5</li>\n",
       "</ol>\n"
      ],
      "text/latex": [
       "\\begin{enumerate*}\n",
       "\\item 89.4\n",
       "\\item 78.2\n",
       "\\item 91.4\n",
       "\\item 95.2\n",
       "\\item 105.5\n",
       "\\end{enumerate*}\n"
      ],
      "text/markdown": [
       "1. 89.4\n",
       "2. 78.2\n",
       "3. 91.4\n",
       "4. 95.2\n",
       "5. 105.5\n",
       "\n",
       "\n"
      ],
      "text/plain": [
       "[1]  89.4  78.2  91.4  95.2 105.5"
      ]
     },
     "metadata": {},
     "output_type": "display_data"
    }
   ],
   "source": [
    "peanut.weight"
   ]
  },
  {
   "cell_type": "markdown",
   "metadata": {},
   "source": [
    "89.4 78.2 91.4 95.2 105.5"
   ]
  },
  {
   "cell_type": "markdown",
   "metadata": {},
   "source": [
    "**Assign the following names (in order) to the peanut.weight vector:**\n",
    "\n",
    "Sullivan, Bailey, Bailey II, Emery, Wynne"
   ]
  },
  {
   "cell_type": "code",
   "execution_count": 8,
   "metadata": {},
   "outputs": [],
   "source": [
    "names(peanut.weight) <- c(\"Sullivan\", \"Bailey\", \"Bailey II\", \"Emery\", \"Wynne\")"
   ]
  },
  {
   "cell_type": "code",
   "execution_count": 9,
   "metadata": {},
   "outputs": [
    {
     "data": {
      "text/html": [
       "<dl class=dl-horizontal>\n",
       "\t<dt>Sullivan</dt>\n",
       "\t\t<dd>89.4</dd>\n",
       "\t<dt>Bailey</dt>\n",
       "\t\t<dd>78.2</dd>\n",
       "\t<dt>Bailey II</dt>\n",
       "\t\t<dd>91.4</dd>\n",
       "\t<dt>Emery</dt>\n",
       "\t\t<dd>95.2</dd>\n",
       "\t<dt>Wynne</dt>\n",
       "\t\t<dd>105.5</dd>\n",
       "</dl>\n"
      ],
      "text/latex": [
       "\\begin{description*}\n",
       "\\item[Sullivan] 89.4\n",
       "\\item[Bailey] 78.2\n",
       "\\item[Bailey II] 91.4\n",
       "\\item[Emery] 95.2\n",
       "\\item[Wynne] 105.5\n",
       "\\end{description*}\n"
      ],
      "text/markdown": [
       "Sullivan\n",
       ":   89.4Bailey\n",
       ":   78.2Bailey II\n",
       ":   91.4Emery\n",
       ":   95.2Wynne\n",
       ":   105.5\n",
       "\n"
      ],
      "text/plain": [
       " Sullivan    Bailey Bailey II     Emery     Wynne \n",
       "     89.4      78.2      91.4      95.2     105.5 "
      ]
     },
     "metadata": {},
     "output_type": "display_data"
    }
   ],
   "source": [
    "peanut.weight"
   ]
  },
  {
   "cell_type": "markdown",
   "metadata": {},
   "source": [
    "**Sullivan** 89.4\n",
    "<br>**Bailey** 78.2\n",
    "<br>**Bailey II** 91.4\n",
    "<br>**Emery** 95.2\n",
    "<br>**Wynne** 105.5"
   ]
  },
  {
   "cell_type": "markdown",
   "metadata": {},
   "source": [
    "**What was the average weight of all peanut lines?**"
   ]
  },
  {
   "cell_type": "code",
   "execution_count": 10,
   "metadata": {},
   "outputs": [
    {
     "data": {
      "text/html": [
       "91.94"
      ],
      "text/latex": [
       "91.94"
      ],
      "text/markdown": [
       "91.94"
      ],
      "text/plain": [
       "[1] 91.94"
      ]
     },
     "metadata": {},
     "output_type": "display_data"
    }
   ],
   "source": [
    "mean(peanut.weight)"
   ]
  },
  {
   "cell_type": "markdown",
   "metadata": {},
   "source": [
    "91.94"
   ]
  },
  {
   "cell_type": "markdown",
   "metadata": {},
   "source": [
    "**Create a vector called over.90 consisting of logicals that correspond to the peanut lines where the weight was more than 90 grams per 100 seeds**"
   ]
  },
  {
   "cell_type": "code",
   "execution_count": 13,
   "metadata": {},
   "outputs": [],
   "source": [
    "over.90 <- peanut.weight[which(peanut.weight > 90)]"
   ]
  },
  {
   "cell_type": "code",
   "execution_count": 14,
   "metadata": {},
   "outputs": [
    {
     "data": {
      "text/html": [
       "<dl class=dl-horizontal>\n",
       "\t<dt>Bailey II</dt>\n",
       "\t\t<dd>91.4</dd>\n",
       "\t<dt>Emery</dt>\n",
       "\t\t<dd>95.2</dd>\n",
       "\t<dt>Wynne</dt>\n",
       "\t\t<dd>105.5</dd>\n",
       "</dl>\n"
      ],
      "text/latex": [
       "\\begin{description*}\n",
       "\\item[Bailey II] 91.4\n",
       "\\item[Emery] 95.2\n",
       "\\item[Wynne] 105.5\n",
       "\\end{description*}\n"
      ],
      "text/markdown": [
       "Bailey II\n",
       ":   91.4Emery\n",
       ":   95.2Wynne\n",
       ":   105.5\n",
       "\n"
      ],
      "text/plain": [
       "Bailey II     Emery     Wynne \n",
       "     91.4      95.2     105.5 "
      ]
     },
     "metadata": {},
     "output_type": "display_data"
    }
   ],
   "source": [
    "over.90"
   ]
  },
  {
   "cell_type": "markdown",
   "metadata": {},
   "source": [
    "**Bailey II** 91.4\n",
    "<br>**Emery** 95.2\n",
    "<br>**Wynne** 105.5"
   ]
  },
  {
   "cell_type": "markdown",
   "metadata": {},
   "source": [
    "**Use a built-in R function to find the peanut line with the smallest seed in over.90**"
   ]
  },
  {
   "cell_type": "code",
   "execution_count": null,
   "metadata": {},
   "outputs": [],
   "source": [
    "over.90[which.min(over.90)]"
   ]
  },
  {
   "cell_type": "markdown",
   "metadata": {},
   "source": [
    "**Bailey II:** 91.4"
   ]
  },
  {
   "cell_type": "markdown",
   "metadata": {},
   "source": [
    "**Format the following variables to print the resulting sentence**\n",
    "\n",
    "Cultivar = 'Bailey II'\n",
    "<br>Weight = '91.4 grams per 100 seeds'"
   ]
  },
  {
   "cell_type": "code",
   "execution_count": 24,
   "metadata": {},
   "outputs": [],
   "source": [
    "Cultivar <- \"Bailey II\"\n",
    "Weight <- \"91.4 grams per 100 seeds\""
   ]
  },
  {
   "cell_type": "code",
   "execution_count": 25,
   "metadata": {},
   "outputs": [
    {
     "data": {
      "text/html": [
       "'The cultivar Bailey II has a seed weight of 91.4 grams per 100 seeds'"
      ],
      "text/latex": [
       "'The cultivar Bailey II has a seed weight of 91.4 grams per 100 seeds'"
      ],
      "text/markdown": [
       "'The cultivar Bailey II has a seed weight of 91.4 grams per 100 seeds'"
      ],
      "text/plain": [
       "[1] \"The cultivar Bailey II has a seed weight of 91.4 grams per 100 seeds\""
      ]
     },
     "metadata": {},
     "output_type": "display_data"
    }
   ],
   "source": [
    "sprintf(\"The cultivar %s has a seed weight of %s\", Cultivar, Weight)"
   ]
  },
  {
   "cell_type": "markdown",
   "metadata": {},
   "source": [
    "'The cultivar Bailey II has a seed weight of 91.4 grams per 100 seeds'"
   ]
  }
 ],
 "metadata": {
  "kernelspec": {
   "display_name": "R",
   "language": "R",
   "name": "ir"
  },
  "language_info": {
   "codemirror_mode": "r",
   "file_extension": ".r",
   "mimetype": "text/x-r-source",
   "name": "R",
   "pygments_lexer": "r",
   "version": "3.6.1"
  }
 },
 "nbformat": 4,
 "nbformat_minor": 2
}
