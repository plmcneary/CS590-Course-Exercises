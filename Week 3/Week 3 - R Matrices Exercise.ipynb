{
 "cells": [
  {
   "cell_type": "markdown",
   "metadata": {},
   "source": [
    "![](Logo.png)"
   ]
  },
  {
   "cell_type": "markdown",
   "metadata": {},
   "source": [
    "# <font color='red'>Week 3 - R Matrices Exercise</font>\n",
    "\n",
    "This week focused on the R matrix data structure; creating matrices, indexing and selecting elements and matrix operations. Answer the questions regarding R matrices"
   ]
  },
  {
   "cell_type": "markdown",
   "metadata": {},
   "source": [
    "#### Create two vectors (A and B), where A is (1,2,3) and B is (4,5,6). With these vectors, use the cbind() or rbind() function to create a 2 x 3 matrix from the vectors. Based on the output, determine the appropriate function to use."
   ]
  },
  {
   "cell_type": "code",
   "execution_count": null,
   "metadata": {},
   "outputs": [],
   "source": []
  },
  {
   "cell_type": "markdown",
   "metadata": {},
   "source": [
    "A matrix: 2 × 3 of type dbl\n",
    "<br>A\t1\t2\t3\n",
    "<br>B\t4\t5\t6\n"
   ]
  },
  {
   "cell_type": "markdown",
   "metadata": {},
   "source": [
    "#### Create a 3 x 3 matrix consisting of the numbers 1-9. Create this matrix using the shortcut 1:9 and by specifying the nrow argument in the matrix() function call. Assign this matrix to the variable *mat"
   ]
  },
  {
   "cell_type": "code",
   "execution_count": null,
   "metadata": {},
   "outputs": [],
   "source": []
  },
  {
   "cell_type": "markdown",
   "metadata": {},
   "source": [
    "A matrix: 3 × 3 of type int\n",
    "<br>1\t4\t7\n",
    "<br>2\t5\t8\n",
    "<br>3\t6\t9"
   ]
  },
  {
   "cell_type": "markdown",
   "metadata": {},
   "source": [
    "#### Confirm that *mat* is a matrix"
   ]
  },
  {
   "cell_type": "code",
   "execution_count": null,
   "metadata": {},
   "outputs": [],
   "source": []
  },
  {
   "cell_type": "markdown",
   "metadata": {},
   "source": [
    "TRUE"
   ]
  },
  {
   "cell_type": "markdown",
   "metadata": {},
   "source": [
    "#### Create a 5 x 5 matrix consisting of the numbers 1-25 and assign it to the variable *mat2*. The top row should be the numbers 1-5"
   ]
  },
  {
   "cell_type": "code",
   "execution_count": null,
   "metadata": {},
   "outputs": [],
   "source": []
  },
  {
   "cell_type": "markdown",
   "metadata": {},
   "source": [
    "A matrix: 5 × 5 of type int\n",
    "<br>1\t2\t3\t4\t5\n",
    "<br>6\t7\t8\t9\t10\n",
    "<br>11\t12\t13\t14\t15\n",
    "<br>16\t17\t18\t19\t20\n",
    "<br>21\t22\t23\t24\t25"
   ]
  },
  {
   "cell_type": "markdown",
   "metadata": {},
   "source": [
    "#### Use index notation to grab a subsection of *mat2* that replicates the output"
   ]
  },
  {
   "cell_type": "code",
   "execution_count": null,
   "metadata": {},
   "outputs": [],
   "source": [
    "# WRITE CODE HERE"
   ]
  },
  {
   "cell_type": "code",
   "execution_count": null,
   "metadata": {},
   "outputs": [],
   "source": []
  },
  {
   "cell_type": "markdown",
   "metadata": {},
   "source": [
    "A matrix: 2 × 2 of type int\n",
    "<br>7\t8\n",
    "<br>12\t13"
   ]
  },
  {
   "cell_type": "markdown",
   "metadata": {},
   "source": [
    "#### Use index notation to grab a subsection of *mat2* that replicates the output"
   ]
  },
  {
   "cell_type": "code",
   "execution_count": null,
   "metadata": {},
   "outputs": [],
   "source": []
  },
  {
   "cell_type": "markdown",
   "metadata": {},
   "source": [
    "A matrix: 2 × 2 of type int\n",
    "<br>19\t20\n",
    "<br>24\t25"
   ]
  },
  {
   "cell_type": "markdown",
   "metadata": {},
   "source": [
    "#### What is the sum of all of the elements of *mat2*?"
   ]
  },
  {
   "cell_type": "code",
   "execution_count": null,
   "metadata": {},
   "outputs": [],
   "source": []
  },
  {
   "cell_type": "markdown",
   "metadata": {},
   "source": [
    "325"
   ]
  },
  {
   "cell_type": "markdown",
   "metadata": {},
   "source": [
    "#### Find out how to use the Built-in R Function runif() to create a 4 x 5 matrix consisting of 20 random numbers"
   ]
  },
  {
   "cell_type": "code",
   "execution_count": null,
   "metadata": {},
   "outputs": [],
   "source": [
    "# For help, use help(function) to show the usage\n",
    "help(runif)"
   ]
  },
  {
   "cell_type": "code",
   "execution_count": null,
   "metadata": {},
   "outputs": [],
   "source": []
  },
  {
   "cell_type": "markdown",
   "metadata": {},
   "source": [
    "A matrix: 4 × 5 of type dbl\n",
    "<br>69.80866\t30.89378\t48.11989\t66.671924\t57.627178\n",
    "<br>84.47939\t22.60094\t42.50644\t5.705361\t99.697690\n",
    "<br>34.14663\t5.36340\t14.70970\t73.329675\t78.732104\n",
    "<br>90.33467\t15.86248\t82.81758\t86.678541\t6.105884\n"
   ]
  },
  {
   "cell_type": "markdown",
   "metadata": {},
   "source": [
    "For other useful random number generators, reference the [R documentation](https://www.rdocumentation.org/packages/pracma/versions/1.9.9/topics/rand) and source help() for usage"
   ]
  }
 ],
 "metadata": {
  "kernelspec": {
   "display_name": "R",
   "language": "R",
   "name": "ir"
  },
  "language_info": {
   "codemirror_mode": "r",
   "file_extension": ".r",
   "mimetype": "text/x-r-source",
   "name": "R",
   "pygments_lexer": "r",
   "version": "3.6.1"
  }
 },
 "nbformat": 4,
 "nbformat_minor": 2
}
