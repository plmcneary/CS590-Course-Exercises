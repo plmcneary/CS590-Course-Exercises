{
 "cells": [
  {
   "cell_type": "markdown",
   "metadata": {},
   "source": [
    "![](logo.png)"
   ]
  },
  {
   "cell_type": "markdown",
   "metadata": {},
   "source": [
    "# <font color='red'>Week 7 - Python Programming Exercise Solutions</font>\n",
    "\n",
    "Let's use **while** loops to create a guessing game.\n",
    "\n",
    "The Challenge:\n",
    "\n",
    "    Write a program that picks a random integer from 1 to 100, and has players guess the number. The rules are:\n",
    "\n",
    "    If a player's guess is less than 1 or greater than 100, say \"OUT OF BOUNDS\" and ask for the input again\n",
    "\n",
    "    On a player's first turn, if their guess is\n",
    "    within 10 of the number, return \"WARM!\"\n",
    "\n",
    "    further than 10 away from the number, return \"COLD!\"\n",
    "\n",
    "    On all subsequent turns, if a guess is\n",
    "    closer to the number than the previous guess return \"WARMER!\"\n",
    "\n",
    "    farther from the number than the previous guess, return \"COLDER!\"\n",
    "\n",
    "    When the player's guess equals the number, tell them they've guessed correctly and how many guesses it took!"
   ]
  },
  {
   "cell_type": "markdown",
   "metadata": {},
   "source": [
    "#### First, pick a random integer from 1 to 100 and assign it to a variable\n",
    "\n",
    "Note: **sample()** allows you to select a random integer between two values - run help(sample) to determine the syntax"
   ]
  },
  {
   "cell_type": "code",
   "execution_count": null,
   "metadata": {},
   "outputs": [],
   "source": [
    "# Code Here"
   ]
  },
  {
   "cell_type": "code",
   "execution_count": null,
   "metadata": {},
   "outputs": [],
   "source": [
    "num"
   ]
  },
  {
   "cell_type": "markdown",
   "metadata": {},
   "source": [
    "#### Next, print an introduction to the game and explain the rules"
   ]
  },
  {
   "cell_type": "code",
   "execution_count": null,
   "metadata": {},
   "outputs": [],
   "source": [
    "# Code Here"
   ]
  },
  {
   "cell_type": "markdown",
   "metadata": {},
   "source": [
    "[1] \"WELCOME TO GUESS ME!\"\n",
    "<br>[1] \"I'm thinking of a number between 1 and 100\"\n",
    "<br>[1] \"If your guess is more than 10 away from my number, I'll tell you you're COLD\"\n",
    "<br>[1] \"If your guess is within 10 of my number, I'll tell you you're WARM\"\n",
    "<br>[1] \"If your guess is farther than your most recent guess, I'll say you're getting COLDER\"\n",
    "<br>[1] \"If your guess is closer than your most recent guess, I'll say you're getting WARMER\"\n",
    "<br>[1] \"LET'S PLAY!\""
   ]
  },
  {
   "cell_type": "markdown",
   "metadata": {},
   "source": [
    "#### Create a list to store guesses\n",
    "\n",
    "HINT: Zero is a good placeholder value. It's useful because it evaluates to \"FALSE\" based on the conditions of the game"
   ]
  },
  {
   "cell_type": "code",
   "execution_count": null,
   "metadata": {},
   "outputs": [],
   "source": [
    "# Code Here"
   ]
  },
  {
   "cell_type": "code",
   "execution_count": null,
   "metadata": {},
   "outputs": [],
   "source": [
    "guesses"
   ]
  },
  {
   "cell_type": "markdown",
   "metadata": {},
   "source": [
    "0"
   ]
  },
  {
   "cell_type": "markdown",
   "metadata": {},
   "source": [
    "#### Write a **while** loop that asks for a valid guess. Test it a few times to make sure it works.\n",
    "\n",
    "NOTE: Use the built-in R function **readlines()** to get user input. Use **message()** to print text to the console while the loop is running"
   ]
  },
  {
   "cell_type": "code",
   "execution_count": null,
   "metadata": {},
   "outputs": [],
   "source": [
    "# Use readline() to get a user input prompt. The system will print the user input after pressing enter\n",
    "#This can be stored as a variable and used in the while loop\n",
    "readline(prompt=\"Run to get a user prompt \")"
   ]
  },
  {
   "cell_type": "code",
   "execution_count": null,
   "metadata": {
    "scrolled": true
   },
   "outputs": [],
   "source": [
    "# Code Here"
   ]
  },
  {
   "cell_type": "markdown",
   "metadata": {},
   "source": [
    "Guess a number between 1 and 100.\n",
    "<br>What is your guess? 101\n",
    "<br>OUT OF BOUNDS. Please Try Again:\n",
    "<br>Guess a number between 1 and 100.\n",
    "<br>What is your guess? 5"
   ]
  },
  {
   "cell_type": "markdown",
   "metadata": {},
   "source": [
    "#### Write a **while** loop that compares the player's guess to our number. If the player guesses correctly, break from the loop. Otherwise, tell the player if they're warmer or colder, and continue asking for guesses.\n",
    "\n",
    "Some hints:\n",
    "* It may help to sketch out all possible combinations on paper first\n",
    "* Use a difference of 10 to suggest warm or cold\n",
    "* you can use the **abs()** function to find the positive difference between two numbers\n",
    "* Use **append()** to append all new guesses to the list, then the previous guess is given as guesses[length(guesses)-1]\n",
    "* For the initial guess, lenght(guesses)-1 == 0, which resolves to FALSE. Use this to determine warm and cold vs warmer and colder"
   ]
  },
  {
   "cell_type": "code",
   "execution_count": null,
   "metadata": {},
   "outputs": [],
   "source": [
    "# Code Here"
   ]
  },
  {
   "cell_type": "markdown",
   "metadata": {},
   "source": [
    "Guess a number between 1 and 100.\n",
    "<br>What is your guess? 21\n",
    "<br>COLD!\n",
    "<br>Guess a number between 1 and 100.\n",
    "<br>What is your guess? 50\n",
    "<br>WARMER!\n",
    "<br>Guess a number between 1 and 100.\n",
    "<br>What is your guess? 79\n",
    "<br>COLDER!\n",
    "<br>Guess a number between 1 and 100.\n",
    "<br>What is your guess? 65\n",
    "<br>WARMER!\n",
    "<br>Guess a number between 1 and 100.\n",
    "<br>What is your guess? 62\n",
    "<br>WARMER!\n",
    "<br>Guess a number between 1 and 100.\n",
    "<br>What is your guess? 60\n",
    "<br>CONGRATULATIONS, YOU GUESSED IT IN ONLY 6 GUESSES"
   ]
  },
  {
   "cell_type": "markdown",
   "metadata": {},
   "source": [
    "#### Lastly, compile everything together in a single cell to run, including the random integer and the list for compiling the guesses"
   ]
  },
  {
   "cell_type": "code",
   "execution_count": null,
   "metadata": {},
   "outputs": [],
   "source": [
    "# Code Here"
   ]
  }
 ],
 "metadata": {
  "kernelspec": {
   "display_name": "R",
   "language": "R",
   "name": "ir"
  },
  "language_info": {
   "codemirror_mode": "r",
   "file_extension": ".r",
   "mimetype": "text/x-r-source",
   "name": "R",
   "pygments_lexer": "r",
   "version": "3.6.1"
  }
 },
 "nbformat": 4,
 "nbformat_minor": 2
}
