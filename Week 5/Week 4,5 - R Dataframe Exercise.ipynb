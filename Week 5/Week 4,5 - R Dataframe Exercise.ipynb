{
 "cells": [
  {
   "cell_type": "markdown",
   "metadata": {},
   "source": [
    "![](logo.png)"
   ]
  },
  {
   "cell_type": "markdown",
   "metadata": {},
   "source": [
    "# <font color='red'>Introduction to R Dataframes Exercise</font>\n",
    "\n",
    "The last two weeks focused on R dataframes, specifically input of files to dataframes, indexing a selecting subsets of data, merging (joining), and output of dataframes to various files. This exercise is designed to review the materials coverd in the Week 4 and 5 lectures."
   ]
  },
  {
   "cell_type": "markdown",
   "metadata": {},
   "source": [
    "1. Recreate the following dataframe by using vectors and the data.frame function"
   ]
  },
  {
   "cell_type": "code",
   "execution_count": 1,
   "metadata": {},
   "outputs": [
    {
     "data": {
      "text/html": [
       "<table>\n",
       "<caption>A data.frame: 5 × 3</caption>\n",
       "<thead>\n",
       "\t<tr><th></th><th scope=col>OL_Ratio</th><th scope=col>Leaf_Spot</th><th scope=col>Drought</th></tr>\n",
       "\t<tr><th></th><th scope=col>&lt;dbl&gt;</th><th scope=col>&lt;dbl&gt;</th><th scope=col>&lt;lgl&gt;</th></tr>\n",
       "</thead>\n",
       "<tbody>\n",
       "\t<tr><th scope=row>N12006</th><td>76.2</td><td>5.5</td><td> TRUE</td></tr>\n",
       "\t<tr><th scope=row>N13003</th><td>82.1</td><td>7.2</td><td>FALSE</td></tr>\n",
       "\t<tr><th scope=row>N13042</th><td>78.9</td><td>6.5</td><td> TRUE</td></tr>\n",
       "\t<tr><th scope=row>N14002</th><td>74.3</td><td>4.2</td><td>FALSE</td></tr>\n",
       "\t<tr><th scope=row>N16021</th><td>77.7</td><td>3.1</td><td>FALSE</td></tr>\n",
       "</tbody>\n",
       "</table>\n"
      ],
      "text/latex": [
       "A data.frame: 5 × 3\n",
       "\\begin{tabular}{r|lll}\n",
       "  & OL\\_Ratio & Leaf\\_Spot & Drought\\\\\n",
       "  & <dbl> & <dbl> & <lgl>\\\\\n",
       "\\hline\n",
       "\tN12006 & 76.2 & 5.5 &  TRUE\\\\\n",
       "\tN13003 & 82.1 & 7.2 & FALSE\\\\\n",
       "\tN13042 & 78.9 & 6.5 &  TRUE\\\\\n",
       "\tN14002 & 74.3 & 4.2 & FALSE\\\\\n",
       "\tN16021 & 77.7 & 3.1 & FALSE\\\\\n",
       "\\end{tabular}\n"
      ],
      "text/markdown": [
       "\n",
       "A data.frame: 5 × 3\n",
       "\n",
       "| <!--/--> | OL_Ratio &lt;dbl&gt; | Leaf_Spot &lt;dbl&gt; | Drought &lt;lgl&gt; |\n",
       "|---|---|---|---|\n",
       "| N12006 | 76.2 | 5.5 |  TRUE |\n",
       "| N13003 | 82.1 | 7.2 | FALSE |\n",
       "| N13042 | 78.9 | 6.5 |  TRUE |\n",
       "| N14002 | 74.3 | 4.2 | FALSE |\n",
       "| N16021 | 77.7 | 3.1 | FALSE |\n",
       "\n"
      ],
      "text/plain": [
       "       OL_Ratio Leaf_Spot Drought\n",
       "N12006 76.2     5.5        TRUE  \n",
       "N13003 82.1     7.2       FALSE  \n",
       "N13042 78.9     6.5        TRUE  \n",
       "N14002 74.3     4.2       FALSE  \n",
       "N16021 77.7     3.1       FALSE  "
      ]
     },
     "metadata": {},
     "output_type": "display_data"
    }
   ],
   "source": [
    "OL_Ratio <- c(76.2, 82.1, 78.9, 74.3, 77.7)\n",
    "Leaf_Spot <- c(5.5, 7.2, 6.5, 4.2, 3.1)\n",
    "Drought <- c(TRUE, FALSE, TRUE, FALSE, FALSE)\n",
    "df <- data.frame(OL_Ratio, Leaf_Spot, Drought)\n",
    "rownames(df) <- c('N12006', 'N13003', 'N13042', 'N14002', 'N16021')\n",
    "df"
   ]
  },
  {
   "cell_type": "code",
   "execution_count": 1,
   "metadata": {},
   "outputs": [
    {
     "data": {
      "text/html": [
       "<table>\n",
       "<caption>A data.frame: 5 × 3</caption>\n",
       "<thead>\n",
       "\t<tr><th></th><th scope=col>OL_Ratio</th><th scope=col>Leaf_Spot</th><th scope=col>Drought</th></tr>\n",
       "\t<tr><th></th><th scope=col>&lt;dbl&gt;</th><th scope=col>&lt;dbl&gt;</th><th scope=col>&lt;lgl&gt;</th></tr>\n",
       "</thead>\n",
       "<tbody>\n",
       "\t<tr><th scope=row>N12006</th><td>76.2</td><td>5.5</td><td> TRUE</td></tr>\n",
       "\t<tr><th scope=row>N13003</th><td>82.1</td><td>7.2</td><td>FALSE</td></tr>\n",
       "\t<tr><th scope=row>N13042</th><td>78.9</td><td>6.5</td><td> TRUE</td></tr>\n",
       "\t<tr><th scope=row>N14002</th><td>74.3</td><td>4.2</td><td>FALSE</td></tr>\n",
       "\t<tr><th scope=row>N16021</th><td>77.7</td><td>3.1</td><td>FALSE</td></tr>\n",
       "</tbody>\n",
       "</table>\n"
      ],
      "text/latex": [
       "A data.frame: 5 × 3\n",
       "\\begin{tabular}{r|lll}\n",
       "  & OL\\_Ratio & Leaf\\_Spot & Drought\\\\\n",
       "  & <dbl> & <dbl> & <lgl>\\\\\n",
       "\\hline\n",
       "\tN12006 & 76.2 & 5.5 &  TRUE\\\\\n",
       "\tN13003 & 82.1 & 7.2 & FALSE\\\\\n",
       "\tN13042 & 78.9 & 6.5 &  TRUE\\\\\n",
       "\tN14002 & 74.3 & 4.2 & FALSE\\\\\n",
       "\tN16021 & 77.7 & 3.1 & FALSE\\\\\n",
       "\\end{tabular}\n"
      ],
      "text/markdown": [
       "\n",
       "A data.frame: 5 × 3\n",
       "\n",
       "| <!--/--> | OL_Ratio &lt;dbl&gt; | Leaf_Spot &lt;dbl&gt; | Drought &lt;lgl&gt; |\n",
       "|---|---|---|---|\n",
       "| N12006 | 76.2 | 5.5 |  TRUE |\n",
       "| N13003 | 82.1 | 7.2 | FALSE |\n",
       "| N13042 | 78.9 | 6.5 |  TRUE |\n",
       "| N14002 | 74.3 | 4.2 | FALSE |\n",
       "| N16021 | 77.7 | 3.1 | FALSE |\n",
       "\n"
      ],
      "text/plain": [
       "       OL_Ratio Leaf_Spot Drought\n",
       "N12006 76.2     5.5        TRUE  \n",
       "N13003 82.1     7.2       FALSE  \n",
       "N13042 78.9     6.5        TRUE  \n",
       "N14002 74.3     4.2       FALSE  \n",
       "N16021 77.7     3.1       FALSE  "
      ]
     },
     "metadata": {},
     "output_type": "display_data"
    }
   ],
   "source": []
  },
  {
   "cell_type": "markdown",
   "metadata": {},
   "source": [
    "2. Which lines are considered drought tolerant?"
   ]
  },
  {
   "cell_type": "code",
   "execution_count": 2,
   "metadata": {},
   "outputs": [
    {
     "data": {
      "text/html": [
       "<table>\n",
       "<caption>A data.frame: 2 × 3</caption>\n",
       "<thead>\n",
       "\t<tr><th></th><th scope=col>OL_Ratio</th><th scope=col>Leaf_Spot</th><th scope=col>Drought</th></tr>\n",
       "\t<tr><th></th><th scope=col>&lt;dbl&gt;</th><th scope=col>&lt;dbl&gt;</th><th scope=col>&lt;lgl&gt;</th></tr>\n",
       "</thead>\n",
       "<tbody>\n",
       "\t<tr><th scope=row>N12006</th><td>76.2</td><td>5.5</td><td>TRUE</td></tr>\n",
       "\t<tr><th scope=row>N13042</th><td>78.9</td><td>6.5</td><td>TRUE</td></tr>\n",
       "</tbody>\n",
       "</table>\n"
      ],
      "text/latex": [
       "A data.frame: 2 × 3\n",
       "\\begin{tabular}{r|lll}\n",
       "  & OL\\_Ratio & Leaf\\_Spot & Drought\\\\\n",
       "  & <dbl> & <dbl> & <lgl>\\\\\n",
       "\\hline\n",
       "\tN12006 & 76.2 & 5.5 & TRUE\\\\\n",
       "\tN13042 & 78.9 & 6.5 & TRUE\\\\\n",
       "\\end{tabular}\n"
      ],
      "text/markdown": [
       "\n",
       "A data.frame: 2 × 3\n",
       "\n",
       "| <!--/--> | OL_Ratio &lt;dbl&gt; | Leaf_Spot &lt;dbl&gt; | Drought &lt;lgl&gt; |\n",
       "|---|---|---|---|\n",
       "| N12006 | 76.2 | 5.5 | TRUE |\n",
       "| N13042 | 78.9 | 6.5 | TRUE |\n",
       "\n"
      ],
      "text/plain": [
       "       OL_Ratio Leaf_Spot Drought\n",
       "N12006 76.2     5.5       TRUE   \n",
       "N13042 78.9     6.5       TRUE   "
      ]
     },
     "metadata": {},
     "output_type": "display_data"
    }
   ],
   "source": [
    "subset(df, Drought == TRUE)"
   ]
  },
  {
   "cell_type": "markdown",
   "metadata": {},
   "source": [
    "3. Input the peanut_lines (CSV) and peanut_disease (Tab) datafile"
   ]
  },
  {
   "cell_type": "code",
   "execution_count": 6,
   "metadata": {},
   "outputs": [
    {
     "data": {
      "text/html": [
       "<table>\n",
       "<caption>A data.frame: 6 × 4</caption>\n",
       "<thead>\n",
       "\t<tr><th scope=col>NC_Accession</th><th scope=col>Identity.or.Parentage</th><th scope=col>Pedigree</th><th scope=col>FAG</th></tr>\n",
       "\t<tr><th scope=col>&lt;fct&gt;</th><th scope=col>&lt;fct&gt;</th><th scope=col>&lt;fct&gt;</th><th scope=col>&lt;fct&gt;</th></tr>\n",
       "</thead>\n",
       "<tbody>\n",
       "\t<tr><td>ACI WT09-0761</td><td>ACI WT09-0761</td><td></td><td>Check</td></tr>\n",
       "\t<tr><td>ACI WT11-0351</td><td>ACI WT11-0351</td><td></td><td>ol ol</td></tr>\n",
       "\t<tr><td>ACI WT12-0226</td><td>ACI WT12-0226</td><td></td><td>ol ol</td></tr>\n",
       "\t<tr><td>ACI WT12-0419</td><td>ACI WT12-0419</td><td></td><td>Check</td></tr>\n",
       "\t<tr><td>ACI WT12-0420</td><td>ACI WT12-0420</td><td></td><td>ol ol</td></tr>\n",
       "\t<tr><td>ACI WT12-0433</td><td>ACI WT12-0433</td><td></td><td>Check</td></tr>\n",
       "</tbody>\n",
       "</table>\n"
      ],
      "text/latex": [
       "A data.frame: 6 × 4\n",
       "\\begin{tabular}{r|llll}\n",
       " NC\\_Accession & Identity.or.Parentage & Pedigree & FAG\\\\\n",
       " <fct> & <fct> & <fct> & <fct>\\\\\n",
       "\\hline\n",
       "\t ACI WT09-0761 & ACI WT09-0761 &  & Check\\\\\n",
       "\t ACI WT11-0351 & ACI WT11-0351 &  & ol ol\\\\\n",
       "\t ACI WT12-0226 & ACI WT12-0226 &  & ol ol\\\\\n",
       "\t ACI WT12-0419 & ACI WT12-0419 &  & Check\\\\\n",
       "\t ACI WT12-0420 & ACI WT12-0420 &  & ol ol\\\\\n",
       "\t ACI WT12-0433 & ACI WT12-0433 &  & Check\\\\\n",
       "\\end{tabular}\n"
      ],
      "text/markdown": [
       "\n",
       "A data.frame: 6 × 4\n",
       "\n",
       "| NC_Accession &lt;fct&gt; | Identity.or.Parentage &lt;fct&gt; | Pedigree &lt;fct&gt; | FAG &lt;fct&gt; |\n",
       "|---|---|---|---|\n",
       "| ACI WT09-0761 | ACI WT09-0761 | <!----> | Check |\n",
       "| ACI WT11-0351 | ACI WT11-0351 | <!----> | ol ol |\n",
       "| ACI WT12-0226 | ACI WT12-0226 | <!----> | ol ol |\n",
       "| ACI WT12-0419 | ACI WT12-0419 | <!----> | Check |\n",
       "| ACI WT12-0420 | ACI WT12-0420 | <!----> | ol ol |\n",
       "| ACI WT12-0433 | ACI WT12-0433 | <!----> | Check |\n",
       "\n"
      ],
      "text/plain": [
       "  NC_Accession  Identity.or.Parentage Pedigree FAG  \n",
       "1 ACI WT09-0761 ACI WT09-0761                  Check\n",
       "2 ACI WT11-0351 ACI WT11-0351                  ol ol\n",
       "3 ACI WT12-0226 ACI WT12-0226                  ol ol\n",
       "4 ACI WT12-0419 ACI WT12-0419                  Check\n",
       "5 ACI WT12-0420 ACI WT12-0420                  ol ol\n",
       "6 ACI WT12-0433 ACI WT12-0433                  Check"
      ]
     },
     "metadata": {},
     "output_type": "display_data"
    },
    {
     "data": {
      "text/html": [
       "<table>\n",
       "<caption>A data.frame: 6 × 7</caption>\n",
       "<thead>\n",
       "\t<tr><th scope=col>Year</th><th scope=col>Location</th><th scope=col>Name</th><th scope=col>Label</th><th scope=col>NC_Accession</th><th scope=col>Rating</th><th scope=col>Disease</th></tr>\n",
       "\t<tr><th scope=col>&lt;int&gt;</th><th scope=col>&lt;fct&gt;</th><th scope=col>&lt;fct&gt;</th><th scope=col>&lt;fct&gt;</th><th scope=col>&lt;fct&gt;</th><th scope=col>&lt;fct&gt;</th><th scope=col>&lt;dbl&gt;</th></tr>\n",
       "</thead>\n",
       "<tbody>\n",
       "\t<tr><td>2010</td><td>LEW</td><td>ATP-L</td><td>Advanced Testing Program - Leafspot</td><td>Bailey</td><td>LS</td><td>2.50</td></tr>\n",
       "\t<tr><td>2010</td><td>LEW</td><td>ATP-L</td><td>Advanced Testing Program - Leafspot</td><td>Bailey</td><td>LS</td><td>2.55</td></tr>\n",
       "\t<tr><td>2011</td><td>LEW</td><td>ATP-L</td><td>Advanced Testing Program - Leafspot</td><td>Bailey</td><td>LS</td><td>7.17</td></tr>\n",
       "\t<tr><td>2011</td><td>LEW</td><td>ATP-L</td><td>Advanced Testing Program - Leafspot</td><td>Bailey</td><td>LS</td><td>7.19</td></tr>\n",
       "\t<tr><td>2012</td><td>LEW</td><td>ATP-L</td><td>Advanced Testing Program - Leafspot</td><td>Bailey</td><td>LS</td><td>2.00</td></tr>\n",
       "\t<tr><td>2012</td><td>LEW</td><td>ATP-L</td><td>Advanced Testing Program - Leafspot</td><td>Bailey</td><td>LS</td><td>2.00</td></tr>\n",
       "</tbody>\n",
       "</table>\n"
      ],
      "text/latex": [
       "A data.frame: 6 × 7\n",
       "\\begin{tabular}{r|lllllll}\n",
       " Year & Location & Name & Label & NC\\_Accession & Rating & Disease\\\\\n",
       " <int> & <fct> & <fct> & <fct> & <fct> & <fct> & <dbl>\\\\\n",
       "\\hline\n",
       "\t 2010 & LEW & ATP-L & Advanced Testing Program - Leafspot & Bailey & LS & 2.50\\\\\n",
       "\t 2010 & LEW & ATP-L & Advanced Testing Program - Leafspot & Bailey & LS & 2.55\\\\\n",
       "\t 2011 & LEW & ATP-L & Advanced Testing Program - Leafspot & Bailey & LS & 7.17\\\\\n",
       "\t 2011 & LEW & ATP-L & Advanced Testing Program - Leafspot & Bailey & LS & 7.19\\\\\n",
       "\t 2012 & LEW & ATP-L & Advanced Testing Program - Leafspot & Bailey & LS & 2.00\\\\\n",
       "\t 2012 & LEW & ATP-L & Advanced Testing Program - Leafspot & Bailey & LS & 2.00\\\\\n",
       "\\end{tabular}\n"
      ],
      "text/markdown": [
       "\n",
       "A data.frame: 6 × 7\n",
       "\n",
       "| Year &lt;int&gt; | Location &lt;fct&gt; | Name &lt;fct&gt; | Label &lt;fct&gt; | NC_Accession &lt;fct&gt; | Rating &lt;fct&gt; | Disease &lt;dbl&gt; |\n",
       "|---|---|---|---|---|---|---|\n",
       "| 2010 | LEW | ATP-L | Advanced Testing Program - Leafspot | Bailey | LS | 2.50 |\n",
       "| 2010 | LEW | ATP-L | Advanced Testing Program - Leafspot | Bailey | LS | 2.55 |\n",
       "| 2011 | LEW | ATP-L | Advanced Testing Program - Leafspot | Bailey | LS | 7.17 |\n",
       "| 2011 | LEW | ATP-L | Advanced Testing Program - Leafspot | Bailey | LS | 7.19 |\n",
       "| 2012 | LEW | ATP-L | Advanced Testing Program - Leafspot | Bailey | LS | 2.00 |\n",
       "| 2012 | LEW | ATP-L | Advanced Testing Program - Leafspot | Bailey | LS | 2.00 |\n",
       "\n"
      ],
      "text/plain": [
       "  Year Location Name  Label                               NC_Accession Rating\n",
       "1 2010 LEW      ATP-L Advanced Testing Program - Leafspot Bailey       LS    \n",
       "2 2010 LEW      ATP-L Advanced Testing Program - Leafspot Bailey       LS    \n",
       "3 2011 LEW      ATP-L Advanced Testing Program - Leafspot Bailey       LS    \n",
       "4 2011 LEW      ATP-L Advanced Testing Program - Leafspot Bailey       LS    \n",
       "5 2012 LEW      ATP-L Advanced Testing Program - Leafspot Bailey       LS    \n",
       "6 2012 LEW      ATP-L Advanced Testing Program - Leafspot Bailey       LS    \n",
       "  Disease\n",
       "1 2.50   \n",
       "2 2.55   \n",
       "3 7.17   \n",
       "4 7.19   \n",
       "5 2.00   \n",
       "6 2.00   "
      ]
     },
     "metadata": {},
     "output_type": "display_data"
    }
   ],
   "source": [
    "peanut_lines <- read.csv('peanut_lines.csv')\n",
    "peanut_disease <- read.table('peanut_disease.txt', sep = '\\t', header = TRUE)\n",
    "head(peanut_lines)\n",
    "head(peanut_disease)"
   ]
  },
  {
   "cell_type": "markdown",
   "metadata": {},
   "source": [
    "4. Check the column names of peanut_lines and peanut_disease"
   ]
  },
  {
   "cell_type": "code",
   "execution_count": 7,
   "metadata": {},
   "outputs": [
    {
     "data": {
      "text/html": [
       "<ol class=list-inline>\n",
       "\t<li>'NC_Accession'</li>\n",
       "\t<li>'Identity.or.Parentage'</li>\n",
       "\t<li>'Pedigree'</li>\n",
       "\t<li>'FAG'</li>\n",
       "</ol>\n"
      ],
      "text/latex": [
       "\\begin{enumerate*}\n",
       "\\item 'NC\\_Accession'\n",
       "\\item 'Identity.or.Parentage'\n",
       "\\item 'Pedigree'\n",
       "\\item 'FAG'\n",
       "\\end{enumerate*}\n"
      ],
      "text/markdown": [
       "1. 'NC_Accession'\n",
       "2. 'Identity.or.Parentage'\n",
       "3. 'Pedigree'\n",
       "4. 'FAG'\n",
       "\n",
       "\n"
      ],
      "text/plain": [
       "[1] \"NC_Accession\"          \"Identity.or.Parentage\" \"Pedigree\"             \n",
       "[4] \"FAG\"                  "
      ]
     },
     "metadata": {},
     "output_type": "display_data"
    },
    {
     "data": {
      "text/html": [
       "<ol class=list-inline>\n",
       "\t<li>'Year'</li>\n",
       "\t<li>'Location'</li>\n",
       "\t<li>'Name'</li>\n",
       "\t<li>'Label'</li>\n",
       "\t<li>'NC_Accession'</li>\n",
       "\t<li>'Rating'</li>\n",
       "\t<li>'Disease'</li>\n",
       "</ol>\n"
      ],
      "text/latex": [
       "\\begin{enumerate*}\n",
       "\\item 'Year'\n",
       "\\item 'Location'\n",
       "\\item 'Name'\n",
       "\\item 'Label'\n",
       "\\item 'NC\\_Accession'\n",
       "\\item 'Rating'\n",
       "\\item 'Disease'\n",
       "\\end{enumerate*}\n"
      ],
      "text/markdown": [
       "1. 'Year'\n",
       "2. 'Location'\n",
       "3. 'Name'\n",
       "4. 'Label'\n",
       "5. 'NC_Accession'\n",
       "6. 'Rating'\n",
       "7. 'Disease'\n",
       "\n",
       "\n"
      ],
      "text/plain": [
       "[1] \"Year\"         \"Location\"     \"Name\"         \"Label\"        \"NC_Accession\"\n",
       "[6] \"Rating\"       \"Disease\"     "
      ]
     },
     "metadata": {},
     "output_type": "display_data"
    }
   ],
   "source": [
    "colnames(peanut_lines)\n",
    "colnames(peanut_disease)"
   ]
  },
  {
   "cell_type": "markdown",
   "metadata": {},
   "source": [
    "5. Merge peanut_lines and peanut_disease keeping the entirety of the peanut_disease information intact - Name the data frame disease_data"
   ]
  },
  {
   "cell_type": "code",
   "execution_count": 11,
   "metadata": {},
   "outputs": [
    {
     "data": {
      "text/html": [
       "<table>\n",
       "<caption>A data.frame: 6 × 10</caption>\n",
       "<thead>\n",
       "\t<tr><th scope=col>NC_Accession</th><th scope=col>Identity.or.Parentage</th><th scope=col>Pedigree</th><th scope=col>FAG</th><th scope=col>Year</th><th scope=col>Location</th><th scope=col>Name</th><th scope=col>Label</th><th scope=col>Rating</th><th scope=col>Disease</th></tr>\n",
       "\t<tr><th scope=col>&lt;fct&gt;</th><th scope=col>&lt;fct&gt;</th><th scope=col>&lt;fct&gt;</th><th scope=col>&lt;fct&gt;</th><th scope=col>&lt;int&gt;</th><th scope=col>&lt;fct&gt;</th><th scope=col>&lt;fct&gt;</th><th scope=col>&lt;fct&gt;</th><th scope=col>&lt;fct&gt;</th><th scope=col>&lt;dbl&gt;</th></tr>\n",
       "</thead>\n",
       "<tbody>\n",
       "\t<tr><td>Bailey</td><td>NC 12C*2 / N96076L</td><td>BC1F1-06-01-S-03-S-05: F09</td><td>+ +</td><td>2010</td><td>LEW</td><td>ATP-T</td><td>Advanced Testing Program - TSWV       </td><td>TSWV    </td><td>   0.3138</td></tr>\n",
       "\t<tr><td>Bailey</td><td>NC 12C*2 / N96076L</td><td>BC1F1-06-01-S-03-S-05: F09</td><td>+ +</td><td>2016</td><td>RMT</td><td>ATP-S</td><td>Advanced Testing Program - Sclerotinia</td><td>SB      </td><td>   0.4619</td></tr>\n",
       "\t<tr><td>Bailey</td><td>NC 12C*2 / N96076L</td><td>BC1F1-06-01-S-03-S-05: F09</td><td>+ +</td><td>2010</td><td>LEW</td><td>ATP-L</td><td>Advanced Testing Program - Leafspot   </td><td>Yield_UT</td><td>5112.0000</td></tr>\n",
       "\t<tr><td>Bailey</td><td>NC 12C*2 / N96076L</td><td>BC1F1-06-01-S-03-S-05: F09</td><td>+ +</td><td>2016</td><td>RMT</td><td>ATP-S</td><td>Advanced Testing Program - Sclerotinia</td><td>SB      </td><td>   0.8611</td></tr>\n",
       "\t<tr><td>Bailey</td><td>NC 12C*2 / N96076L</td><td>BC1F1-06-01-S-03-S-05: F09</td><td>+ +</td><td>2015</td><td>LEW</td><td>ATP-L</td><td>Advanced Testing Program - Leafspot   </td><td>Yield_UT</td><td>3373.0000</td></tr>\n",
       "\t<tr><td>Bailey</td><td>NC 12C*2 / N96076L</td><td>BC1F1-06-01-S-03-S-05: F09</td><td>+ +</td><td>2014</td><td>LEW</td><td>ATP-L</td><td>Advanced Testing Program - Leafspot   </td><td>Yield_UT</td><td>2685.0000</td></tr>\n",
       "</tbody>\n",
       "</table>\n"
      ],
      "text/latex": [
       "A data.frame: 6 × 10\n",
       "\\begin{tabular}{r|llllllllll}\n",
       " NC\\_Accession & Identity.or.Parentage & Pedigree & FAG & Year & Location & Name & Label & Rating & Disease\\\\\n",
       " <fct> & <fct> & <fct> & <fct> & <int> & <fct> & <fct> & <fct> & <fct> & <dbl>\\\\\n",
       "\\hline\n",
       "\t Bailey & NC 12C*2 / N96076L & BC1F1-06-01-S-03-S-05: F09 & + + & 2010 & LEW & ATP-T & Advanced Testing Program - TSWV        & TSWV     &    0.3138\\\\\n",
       "\t Bailey & NC 12C*2 / N96076L & BC1F1-06-01-S-03-S-05: F09 & + + & 2016 & RMT & ATP-S & Advanced Testing Program - Sclerotinia & SB       &    0.4619\\\\\n",
       "\t Bailey & NC 12C*2 / N96076L & BC1F1-06-01-S-03-S-05: F09 & + + & 2010 & LEW & ATP-L & Advanced Testing Program - Leafspot    & Yield\\_UT & 5112.0000\\\\\n",
       "\t Bailey & NC 12C*2 / N96076L & BC1F1-06-01-S-03-S-05: F09 & + + & 2016 & RMT & ATP-S & Advanced Testing Program - Sclerotinia & SB       &    0.8611\\\\\n",
       "\t Bailey & NC 12C*2 / N96076L & BC1F1-06-01-S-03-S-05: F09 & + + & 2015 & LEW & ATP-L & Advanced Testing Program - Leafspot    & Yield\\_UT & 3373.0000\\\\\n",
       "\t Bailey & NC 12C*2 / N96076L & BC1F1-06-01-S-03-S-05: F09 & + + & 2014 & LEW & ATP-L & Advanced Testing Program - Leafspot    & Yield\\_UT & 2685.0000\\\\\n",
       "\\end{tabular}\n"
      ],
      "text/markdown": [
       "\n",
       "A data.frame: 6 × 10\n",
       "\n",
       "| NC_Accession &lt;fct&gt; | Identity.or.Parentage &lt;fct&gt; | Pedigree &lt;fct&gt; | FAG &lt;fct&gt; | Year &lt;int&gt; | Location &lt;fct&gt; | Name &lt;fct&gt; | Label &lt;fct&gt; | Rating &lt;fct&gt; | Disease &lt;dbl&gt; |\n",
       "|---|---|---|---|---|---|---|---|---|---|\n",
       "| Bailey | NC 12C*2 / N96076L | BC1F1-06-01-S-03-S-05: F09 | + + | 2010 | LEW | ATP-T | Advanced Testing Program - TSWV        | TSWV     |    0.3138 |\n",
       "| Bailey | NC 12C*2 / N96076L | BC1F1-06-01-S-03-S-05: F09 | + + | 2016 | RMT | ATP-S | Advanced Testing Program - Sclerotinia | SB       |    0.4619 |\n",
       "| Bailey | NC 12C*2 / N96076L | BC1F1-06-01-S-03-S-05: F09 | + + | 2010 | LEW | ATP-L | Advanced Testing Program - Leafspot    | Yield_UT | 5112.0000 |\n",
       "| Bailey | NC 12C*2 / N96076L | BC1F1-06-01-S-03-S-05: F09 | + + | 2016 | RMT | ATP-S | Advanced Testing Program - Sclerotinia | SB       |    0.8611 |\n",
       "| Bailey | NC 12C*2 / N96076L | BC1F1-06-01-S-03-S-05: F09 | + + | 2015 | LEW | ATP-L | Advanced Testing Program - Leafspot    | Yield_UT | 3373.0000 |\n",
       "| Bailey | NC 12C*2 / N96076L | BC1F1-06-01-S-03-S-05: F09 | + + | 2014 | LEW | ATP-L | Advanced Testing Program - Leafspot    | Yield_UT | 2685.0000 |\n",
       "\n"
      ],
      "text/plain": [
       "  NC_Accession Identity.or.Parentage Pedigree                   FAG Year\n",
       "1 Bailey       NC 12C*2 / N96076L    BC1F1-06-01-S-03-S-05: F09 + + 2010\n",
       "2 Bailey       NC 12C*2 / N96076L    BC1F1-06-01-S-03-S-05: F09 + + 2016\n",
       "3 Bailey       NC 12C*2 / N96076L    BC1F1-06-01-S-03-S-05: F09 + + 2010\n",
       "4 Bailey       NC 12C*2 / N96076L    BC1F1-06-01-S-03-S-05: F09 + + 2016\n",
       "5 Bailey       NC 12C*2 / N96076L    BC1F1-06-01-S-03-S-05: F09 + + 2015\n",
       "6 Bailey       NC 12C*2 / N96076L    BC1F1-06-01-S-03-S-05: F09 + + 2014\n",
       "  Location Name  Label                                  Rating   Disease  \n",
       "1 LEW      ATP-T Advanced Testing Program - TSWV        TSWV        0.3138\n",
       "2 RMT      ATP-S Advanced Testing Program - Sclerotinia SB          0.4619\n",
       "3 LEW      ATP-L Advanced Testing Program - Leafspot    Yield_UT 5112.0000\n",
       "4 RMT      ATP-S Advanced Testing Program - Sclerotinia SB          0.8611\n",
       "5 LEW      ATP-L Advanced Testing Program - Leafspot    Yield_UT 3373.0000\n",
       "6 LEW      ATP-L Advanced Testing Program - Leafspot    Yield_UT 2685.0000"
      ]
     },
     "metadata": {},
     "output_type": "display_data"
    }
   ],
   "source": [
    "disease_data <- merge(peanut_lines, peanut_disease, by.x = 'NC_Accession', by.y = 'NC_Accession', all.y = TRUE)\n",
    "head(disease_data)"
   ]
  },
  {
   "cell_type": "code",
   "execution_count": 15,
   "metadata": {},
   "outputs": [
    {
     "data": {
      "text/html": [
       "<ol class=list-inline>\n",
       "\t<li>Advanced Testing Program - TSWV</li>\n",
       "\t<li>Advanced Testing Program - Sclerotinia</li>\n",
       "\t<li>Advanced Testing Program - Leafspot</li>\n",
       "</ol>\n",
       "\n",
       "<details>\n",
       "\t<summary style=display:list-item;cursor:pointer>\n",
       "\t\t<strong>Levels</strong>:\n",
       "\t</summary>\n",
       "\t<ol class=list-inline>\n",
       "\t\t<li>'Advanced Testing Program - Leafspot'</li>\n",
       "\t\t<li>'Advanced Testing Program - Sclerotinia'</li>\n",
       "\t\t<li>'Advanced Testing Program - TSWV'</li>\n",
       "\t</ol>\n",
       "</details>"
      ],
      "text/latex": [
       "\\begin{enumerate*}\n",
       "\\item Advanced Testing Program - TSWV\n",
       "\\item Advanced Testing Program - Sclerotinia\n",
       "\\item Advanced Testing Program - Leafspot\n",
       "\\end{enumerate*}\n",
       "\n",
       "\\emph{Levels}: \\begin{enumerate*}\n",
       "\\item 'Advanced Testing Program - Leafspot'\n",
       "\\item 'Advanced Testing Program - Sclerotinia'\n",
       "\\item 'Advanced Testing Program - TSWV'\n",
       "\\end{enumerate*}\n"
      ],
      "text/markdown": [
       "1. Advanced Testing Program - TSWV\n",
       "2. Advanced Testing Program - Sclerotinia\n",
       "3. Advanced Testing Program - Leafspot\n",
       "\n",
       "\n",
       "\n",
       "**Levels**: 1. 'Advanced Testing Program - Leafspot'\n",
       "2. 'Advanced Testing Program - Sclerotinia'\n",
       "3. 'Advanced Testing Program - TSWV'\n",
       "\n",
       "\n"
      ],
      "text/plain": [
       "[1] Advanced Testing Program - TSWV       \n",
       "[2] Advanced Testing Program - Sclerotinia\n",
       "[3] Advanced Testing Program - Leafspot   \n",
       "3 Levels: Advanced Testing Program - Leafspot ..."
      ]
     },
     "metadata": {},
     "output_type": "display_data"
    }
   ],
   "source": [
    "unique(disease_data$Label)"
   ]
  },
  {
   "cell_type": "markdown",
   "metadata": {},
   "source": [
    "6. Subset the disease data to list only ratings for leaf spot ('LS') in a dataframe called leaf.spot"
   ]
  },
  {
   "cell_type": "code",
   "execution_count": 17,
   "metadata": {},
   "outputs": [
    {
     "data": {
      "text/html": [
       "<table>\n",
       "<caption>A data.frame: 6 × 10</caption>\n",
       "<thead>\n",
       "\t<tr><th></th><th scope=col>NC_Accession</th><th scope=col>Identity.or.Parentage</th><th scope=col>Pedigree</th><th scope=col>FAG</th><th scope=col>Year</th><th scope=col>Location</th><th scope=col>Name</th><th scope=col>Label</th><th scope=col>Rating</th><th scope=col>Disease</th></tr>\n",
       "\t<tr><th></th><th scope=col>&lt;fct&gt;</th><th scope=col>&lt;fct&gt;</th><th scope=col>&lt;fct&gt;</th><th scope=col>&lt;fct&gt;</th><th scope=col>&lt;int&gt;</th><th scope=col>&lt;fct&gt;</th><th scope=col>&lt;fct&gt;</th><th scope=col>&lt;fct&gt;</th><th scope=col>&lt;fct&gt;</th><th scope=col>&lt;dbl&gt;</th></tr>\n",
       "</thead>\n",
       "<tbody>\n",
       "\t<tr><th scope=row>3</th><td>Bailey</td><td>NC 12C*2 / N96076L</td><td>BC1F1-06-01-S-03-S-05: F09</td><td>+ +</td><td>2010</td><td>LEW</td><td>ATP-L</td><td>Advanced Testing Program - Leafspot</td><td>Yield_UT</td><td>5112</td></tr>\n",
       "\t<tr><th scope=row>5</th><td>Bailey</td><td>NC 12C*2 / N96076L</td><td>BC1F1-06-01-S-03-S-05: F09</td><td>+ +</td><td>2015</td><td>LEW</td><td>ATP-L</td><td>Advanced Testing Program - Leafspot</td><td>Yield_UT</td><td>3373</td></tr>\n",
       "\t<tr><th scope=row>6</th><td>Bailey</td><td>NC 12C*2 / N96076L</td><td>BC1F1-06-01-S-03-S-05: F09</td><td>+ +</td><td>2014</td><td>LEW</td><td>ATP-L</td><td>Advanced Testing Program - Leafspot</td><td>Yield_UT</td><td>2685</td></tr>\n",
       "\t<tr><th scope=row>7</th><td>Bailey</td><td>NC 12C*2 / N96076L</td><td>BC1F1-06-01-S-03-S-05: F09</td><td>+ +</td><td>2010</td><td>LEW</td><td>ATP-L</td><td>Advanced Testing Program - Leafspot</td><td>Yield_UT</td><td>4973</td></tr>\n",
       "\t<tr><th scope=row>8</th><td>Bailey</td><td>NC 12C*2 / N96076L</td><td>BC1F1-06-01-S-03-S-05: F09</td><td>+ +</td><td>2017</td><td>LEW</td><td>ATP-L</td><td>Advanced Testing Program - Leafspot</td><td>Yield_UT</td><td>3050</td></tr>\n",
       "\t<tr><th scope=row>9</th><td>Bailey</td><td>NC 12C*2 / N96076L</td><td>BC1F1-06-01-S-03-S-05: F09</td><td>+ +</td><td>2013</td><td>LEW</td><td>ATP-L</td><td>Advanced Testing Program - Leafspot</td><td>Yield_UT</td><td>3199</td></tr>\n",
       "</tbody>\n",
       "</table>\n"
      ],
      "text/latex": [
       "A data.frame: 6 × 10\n",
       "\\begin{tabular}{r|llllllllll}\n",
       "  & NC\\_Accession & Identity.or.Parentage & Pedigree & FAG & Year & Location & Name & Label & Rating & Disease\\\\\n",
       "  & <fct> & <fct> & <fct> & <fct> & <int> & <fct> & <fct> & <fct> & <fct> & <dbl>\\\\\n",
       "\\hline\n",
       "\t3 & Bailey & NC 12C*2 / N96076L & BC1F1-06-01-S-03-S-05: F09 & + + & 2010 & LEW & ATP-L & Advanced Testing Program - Leafspot & Yield\\_UT & 5112\\\\\n",
       "\t5 & Bailey & NC 12C*2 / N96076L & BC1F1-06-01-S-03-S-05: F09 & + + & 2015 & LEW & ATP-L & Advanced Testing Program - Leafspot & Yield\\_UT & 3373\\\\\n",
       "\t6 & Bailey & NC 12C*2 / N96076L & BC1F1-06-01-S-03-S-05: F09 & + + & 2014 & LEW & ATP-L & Advanced Testing Program - Leafspot & Yield\\_UT & 2685\\\\\n",
       "\t7 & Bailey & NC 12C*2 / N96076L & BC1F1-06-01-S-03-S-05: F09 & + + & 2010 & LEW & ATP-L & Advanced Testing Program - Leafspot & Yield\\_UT & 4973\\\\\n",
       "\t8 & Bailey & NC 12C*2 / N96076L & BC1F1-06-01-S-03-S-05: F09 & + + & 2017 & LEW & ATP-L & Advanced Testing Program - Leafspot & Yield\\_UT & 3050\\\\\n",
       "\t9 & Bailey & NC 12C*2 / N96076L & BC1F1-06-01-S-03-S-05: F09 & + + & 2013 & LEW & ATP-L & Advanced Testing Program - Leafspot & Yield\\_UT & 3199\\\\\n",
       "\\end{tabular}\n"
      ],
      "text/markdown": [
       "\n",
       "A data.frame: 6 × 10\n",
       "\n",
       "| <!--/--> | NC_Accession &lt;fct&gt; | Identity.or.Parentage &lt;fct&gt; | Pedigree &lt;fct&gt; | FAG &lt;fct&gt; | Year &lt;int&gt; | Location &lt;fct&gt; | Name &lt;fct&gt; | Label &lt;fct&gt; | Rating &lt;fct&gt; | Disease &lt;dbl&gt; |\n",
       "|---|---|---|---|---|---|---|---|---|---|---|\n",
       "| 3 | Bailey | NC 12C*2 / N96076L | BC1F1-06-01-S-03-S-05: F09 | + + | 2010 | LEW | ATP-L | Advanced Testing Program - Leafspot | Yield_UT | 5112 |\n",
       "| 5 | Bailey | NC 12C*2 / N96076L | BC1F1-06-01-S-03-S-05: F09 | + + | 2015 | LEW | ATP-L | Advanced Testing Program - Leafspot | Yield_UT | 3373 |\n",
       "| 6 | Bailey | NC 12C*2 / N96076L | BC1F1-06-01-S-03-S-05: F09 | + + | 2014 | LEW | ATP-L | Advanced Testing Program - Leafspot | Yield_UT | 2685 |\n",
       "| 7 | Bailey | NC 12C*2 / N96076L | BC1F1-06-01-S-03-S-05: F09 | + + | 2010 | LEW | ATP-L | Advanced Testing Program - Leafspot | Yield_UT | 4973 |\n",
       "| 8 | Bailey | NC 12C*2 / N96076L | BC1F1-06-01-S-03-S-05: F09 | + + | 2017 | LEW | ATP-L | Advanced Testing Program - Leafspot | Yield_UT | 3050 |\n",
       "| 9 | Bailey | NC 12C*2 / N96076L | BC1F1-06-01-S-03-S-05: F09 | + + | 2013 | LEW | ATP-L | Advanced Testing Program - Leafspot | Yield_UT | 3199 |\n",
       "\n"
      ],
      "text/plain": [
       "  NC_Accession Identity.or.Parentage Pedigree                   FAG Year\n",
       "3 Bailey       NC 12C*2 / N96076L    BC1F1-06-01-S-03-S-05: F09 + + 2010\n",
       "5 Bailey       NC 12C*2 / N96076L    BC1F1-06-01-S-03-S-05: F09 + + 2015\n",
       "6 Bailey       NC 12C*2 / N96076L    BC1F1-06-01-S-03-S-05: F09 + + 2014\n",
       "7 Bailey       NC 12C*2 / N96076L    BC1F1-06-01-S-03-S-05: F09 + + 2010\n",
       "8 Bailey       NC 12C*2 / N96076L    BC1F1-06-01-S-03-S-05: F09 + + 2017\n",
       "9 Bailey       NC 12C*2 / N96076L    BC1F1-06-01-S-03-S-05: F09 + + 2013\n",
       "  Location Name  Label                               Rating   Disease\n",
       "3 LEW      ATP-L Advanced Testing Program - Leafspot Yield_UT 5112   \n",
       "5 LEW      ATP-L Advanced Testing Program - Leafspot Yield_UT 3373   \n",
       "6 LEW      ATP-L Advanced Testing Program - Leafspot Yield_UT 2685   \n",
       "7 LEW      ATP-L Advanced Testing Program - Leafspot Yield_UT 4973   \n",
       "8 LEW      ATP-L Advanced Testing Program - Leafspot Yield_UT 3050   \n",
       "9 LEW      ATP-L Advanced Testing Program - Leafspot Yield_UT 3199   "
      ]
     },
     "metadata": {},
     "output_type": "display_data"
    }
   ],
   "source": [
    "leaf.spot <- subset(disease_data, Label == 'Advanced Testing Program - Leafspot')\n",
    "head(leaf.spot)"
   ]
  },
  {
   "cell_type": "markdown",
   "metadata": {},
   "source": [
    "7. Drop all rows that contain missing values in the column 'Disease'"
   ]
  },
  {
   "cell_type": "code",
   "execution_count": 19,
   "metadata": {},
   "outputs": [],
   "source": [
    "leaf.spot <- leaf.spot[!is.na(leaf.spot$Disease), ]"
   ]
  },
  {
   "cell_type": "markdown",
   "metadata": {},
   "source": [
    "8. What was the average leaf spot rating in 2017?"
   ]
  },
  {
   "cell_type": "code",
   "execution_count": 25,
   "metadata": {},
   "outputs": [
    {
     "data": {
      "text/html": [
       "1444.23313901345"
      ],
      "text/latex": [
       "1444.23313901345"
      ],
      "text/markdown": [
       "1444.23313901345"
      ],
      "text/plain": [
       "[1] 1444.233"
      ]
     },
     "metadata": {},
     "output_type": "display_data"
    }
   ],
   "source": [
    "mean(subset(leaf.spot, Year == '2017')$Disease)"
   ]
  },
  {
   "cell_type": "markdown",
   "metadata": {},
   "source": [
    "9. Subset the leaf.spot dataframe to include only the following lines \n",
    "<br>Hint: Look up %in% from the following reference - [R Tutorials Operators](https://www.tutorialspoint.com/r/r_operators.htm)\n",
    "\n",
    "<br>line_names = 'Bailey', 'Bailey II', 'Wynne', 'Sullivan', 'Emery', 'N96076'"
   ]
  },
  {
   "cell_type": "code",
   "execution_count": 35,
   "metadata": {},
   "outputs": [
    {
     "data": {
      "text/html": [
       "<table>\n",
       "<caption>A data.frame: 164 × 10</caption>\n",
       "<thead>\n",
       "\t<tr><th></th><th scope=col>NC_Accession</th><th scope=col>Identity.or.Parentage</th><th scope=col>Pedigree</th><th scope=col>FAG</th><th scope=col>Year</th><th scope=col>Location</th><th scope=col>Name</th><th scope=col>Label</th><th scope=col>Rating</th><th scope=col>Disease</th></tr>\n",
       "\t<tr><th></th><th scope=col>&lt;fct&gt;</th><th scope=col>&lt;fct&gt;</th><th scope=col>&lt;fct&gt;</th><th scope=col>&lt;fct&gt;</th><th scope=col>&lt;int&gt;</th><th scope=col>&lt;fct&gt;</th><th scope=col>&lt;fct&gt;</th><th scope=col>&lt;fct&gt;</th><th scope=col>&lt;fct&gt;</th><th scope=col>&lt;dbl&gt;</th></tr>\n",
       "</thead>\n",
       "<tbody>\n",
       "\t<tr><th scope=row>3</th><td>Bailey</td><td>NC 12C*2 / N96076L</td><td>BC1F1-06-01-S-03-S-05: F09</td><td>+ +</td><td>2010</td><td>LEW</td><td>ATP-L</td><td>Advanced Testing Program - Leafspot</td><td>Yield_UT</td><td>5112.000</td></tr>\n",
       "\t<tr><th scope=row>5</th><td>Bailey</td><td>NC 12C*2 / N96076L</td><td>BC1F1-06-01-S-03-S-05: F09</td><td>+ +</td><td>2015</td><td>LEW</td><td>ATP-L</td><td>Advanced Testing Program - Leafspot</td><td>Yield_UT</td><td>3373.000</td></tr>\n",
       "\t<tr><th scope=row>6</th><td>Bailey</td><td>NC 12C*2 / N96076L</td><td>BC1F1-06-01-S-03-S-05: F09</td><td>+ +</td><td>2014</td><td>LEW</td><td>ATP-L</td><td>Advanced Testing Program - Leafspot</td><td>Yield_UT</td><td>2685.000</td></tr>\n",
       "\t<tr><th scope=row>7</th><td>Bailey</td><td>NC 12C*2 / N96076L</td><td>BC1F1-06-01-S-03-S-05: F09</td><td>+ +</td><td>2010</td><td>LEW</td><td>ATP-L</td><td>Advanced Testing Program - Leafspot</td><td>Yield_UT</td><td>4973.000</td></tr>\n",
       "\t<tr><th scope=row>8</th><td>Bailey</td><td>NC 12C*2 / N96076L</td><td>BC1F1-06-01-S-03-S-05: F09</td><td>+ +</td><td>2017</td><td>LEW</td><td>ATP-L</td><td>Advanced Testing Program - Leafspot</td><td>Yield_UT</td><td>3050.000</td></tr>\n",
       "\t<tr><th scope=row>9</th><td>Bailey</td><td>NC 12C*2 / N96076L</td><td>BC1F1-06-01-S-03-S-05: F09</td><td>+ +</td><td>2013</td><td>LEW</td><td>ATP-L</td><td>Advanced Testing Program - Leafspot</td><td>Yield_UT</td><td>3199.000</td></tr>\n",
       "\t<tr><th scope=row>10</th><td>Bailey</td><td>NC 12C*2 / N96076L</td><td>BC1F1-06-01-S-03-S-05: F09</td><td>+ +</td><td>2010</td><td>LEW</td><td>ATP-L</td><td>Advanced Testing Program - Leafspot</td><td>LS      </td><td>   2.500</td></tr>\n",
       "\t<tr><th scope=row>12</th><td>Bailey</td><td>NC 12C*2 / N96076L</td><td>BC1F1-06-01-S-03-S-05: F09</td><td>+ +</td><td>2016</td><td>LEW</td><td>ATP-L</td><td>Advanced Testing Program - Leafspot</td><td>Yield_UT</td><td>3310.308</td></tr>\n",
       "\t<tr><th scope=row>14</th><td>Bailey</td><td>NC 12C*2 / N96076L</td><td>BC1F1-06-01-S-03-S-05: F09</td><td>+ +</td><td>2017</td><td>LEW</td><td>ATP-L</td><td>Advanced Testing Program - Leafspot</td><td>LS      </td><td>   8.000</td></tr>\n",
       "\t<tr><th scope=row>19</th><td>Bailey</td><td>NC 12C*2 / N96076L</td><td>BC1F1-06-01-S-03-S-05: F09</td><td>+ +</td><td>2012</td><td>LEW</td><td>ATP-L</td><td>Advanced Testing Program - Leafspot</td><td>Yield_UT</td><td>3719.000</td></tr>\n",
       "\t<tr><th scope=row>20</th><td>Bailey</td><td>NC 12C*2 / N96076L</td><td>BC1F1-06-01-S-03-S-05: F09</td><td>+ +</td><td>2016</td><td>LEW</td><td>ATP-L</td><td>Advanced Testing Program - Leafspot</td><td>LS      </td><td>   4.000</td></tr>\n",
       "\t<tr><th scope=row>22</th><td>Bailey</td><td>NC 12C*2 / N96076L</td><td>BC1F1-06-01-S-03-S-05: F09</td><td>+ +</td><td>2011</td><td>LEW</td><td>ATP-L</td><td>Advanced Testing Program - Leafspot</td><td>Yield_UT</td><td>2827.000</td></tr>\n",
       "\t<tr><th scope=row>25</th><td>Bailey</td><td>NC 12C*2 / N96076L</td><td>BC1F1-06-01-S-03-S-05: F09</td><td>+ +</td><td>2015</td><td>LEW</td><td>ATP-L</td><td>Advanced Testing Program - Leafspot</td><td>Yield_UT</td><td>3589.000</td></tr>\n",
       "\t<tr><th scope=row>26</th><td>Bailey</td><td>NC 12C*2 / N96076L</td><td>BC1F1-06-01-S-03-S-05: F09</td><td>+ +</td><td>2016</td><td>LEW</td><td>ATP-L</td><td>Advanced Testing Program - Leafspot</td><td>Yield_UT</td><td>3310.308</td></tr>\n",
       "\t<tr><th scope=row>27</th><td>Bailey</td><td>NC 12C*2 / N96076L</td><td>BC1F1-06-01-S-03-S-05: F09</td><td>+ +</td><td>2012</td><td>LEW</td><td>ATP-L</td><td>Advanced Testing Program - Leafspot</td><td>Yield_UT</td><td>2801.000</td></tr>\n",
       "\t<tr><th scope=row>30</th><td>Bailey</td><td>NC 12C*2 / N96076L</td><td>BC1F1-06-01-S-03-S-05: F09</td><td>+ +</td><td>2010</td><td>LEW</td><td>ATP-L</td><td>Advanced Testing Program - Leafspot</td><td>LS      </td><td>   2.550</td></tr>\n",
       "\t<tr><th scope=row>31</th><td>Bailey</td><td>NC 12C*2 / N96076L</td><td>BC1F1-06-01-S-03-S-05: F09</td><td>+ +</td><td>2014</td><td>LEW</td><td>ATP-L</td><td>Advanced Testing Program - Leafspot</td><td>Yield_UT</td><td>2774.000</td></tr>\n",
       "\t<tr><th scope=row>33</th><td>Bailey</td><td>NC 12C*2 / N96076L</td><td>BC1F1-06-01-S-03-S-05: F09</td><td>+ +</td><td>2016</td><td>LEW</td><td>ATP-L</td><td>Advanced Testing Program - Leafspot</td><td>LS      </td><td>   6.000</td></tr>\n",
       "\t<tr><th scope=row>34</th><td>Bailey</td><td>NC 12C*2 / N96076L</td><td>BC1F1-06-01-S-03-S-05: F09</td><td>+ +</td><td>2011</td><td>LEW</td><td>ATP-L</td><td>Advanced Testing Program - Leafspot</td><td>LS      </td><td>   7.170</td></tr>\n",
       "\t<tr><th scope=row>38</th><td>Bailey</td><td>NC 12C*2 / N96076L</td><td>BC1F1-06-01-S-03-S-05: F09</td><td>+ +</td><td>2015</td><td>LEW</td><td>ATP-L</td><td>Advanced Testing Program - Leafspot</td><td>LS      </td><td>   5.790</td></tr>\n",
       "\t<tr><th scope=row>39</th><td>Bailey</td><td>NC 12C*2 / N96076L</td><td>BC1F1-06-01-S-03-S-05: F09</td><td>+ +</td><td>2015</td><td>LEW</td><td>ATP-L</td><td>Advanced Testing Program - Leafspot</td><td>LS      </td><td>   4.710</td></tr>\n",
       "\t<tr><th scope=row>40</th><td>Bailey</td><td>NC 12C*2 / N96076L</td><td>BC1F1-06-01-S-03-S-05: F09</td><td>+ +</td><td>2013</td><td>LEW</td><td>ATP-L</td><td>Advanced Testing Program - Leafspot</td><td>Yield_UT</td><td>2291.000</td></tr>\n",
       "\t<tr><th scope=row>42</th><td>Bailey</td><td>NC 12C*2 / N96076L</td><td>BC1F1-06-01-S-03-S-05: F09</td><td>+ +</td><td>2014</td><td>LEW</td><td>ATP-L</td><td>Advanced Testing Program - Leafspot</td><td>LS      </td><td>   7.010</td></tr>\n",
       "\t<tr><th scope=row>44</th><td>Bailey</td><td>NC 12C*2 / N96076L</td><td>BC1F1-06-01-S-03-S-05: F09</td><td>+ +</td><td>2011</td><td>LEW</td><td>ATP-L</td><td>Advanced Testing Program - Leafspot</td><td>Yield_UT</td><td>2641.000</td></tr>\n",
       "\t<tr><th scope=row>45</th><td>Bailey</td><td>NC 12C*2 / N96076L</td><td>BC1F1-06-01-S-03-S-05: F09</td><td>+ +</td><td>2011</td><td>LEW</td><td>ATP-L</td><td>Advanced Testing Program - Leafspot</td><td>LS      </td><td>   7.190</td></tr>\n",
       "\t<tr><th scope=row>48</th><td>Bailey</td><td>NC 12C*2 / N96076L</td><td>BC1F1-06-01-S-03-S-05: F09</td><td>+ +</td><td>2013</td><td>LEW</td><td>ATP-L</td><td>Advanced Testing Program - Leafspot</td><td>LS      </td><td>   3.000</td></tr>\n",
       "\t<tr><th scope=row>53</th><td>Bailey</td><td>NC 12C*2 / N96076L</td><td>BC1F1-06-01-S-03-S-05: F09</td><td>+ +</td><td>2014</td><td>LEW</td><td>ATP-L</td><td>Advanced Testing Program - Leafspot</td><td>LS      </td><td>   6.500</td></tr>\n",
       "\t<tr><th scope=row>54</th><td>Bailey</td><td>NC 12C*2 / N96076L</td><td>BC1F1-06-01-S-03-S-05: F09</td><td>+ +</td><td>2012</td><td>LEW</td><td>ATP-L</td><td>Advanced Testing Program - Leafspot</td><td>LS      </td><td>   2.000</td></tr>\n",
       "\t<tr><th scope=row>59</th><td>Bailey</td><td>NC 12C*2 / N96076L</td><td>BC1F1-06-01-S-03-S-05: F09</td><td>+ +</td><td>2012</td><td>LEW</td><td>ATP-L</td><td>Advanced Testing Program - Leafspot</td><td>LS      </td><td>   2.000</td></tr>\n",
       "\t<tr><th scope=row>61</th><td>Bailey</td><td>NC 12C*2 / N96076L</td><td>BC1F1-06-01-S-03-S-05: F09</td><td>+ +</td><td>2013</td><td>LEW</td><td>ATP-L</td><td>Advanced Testing Program - Leafspot</td><td>LS      </td><td>   4.000</td></tr>\n",
       "\t<tr><th scope=row>⋮</th><td>⋮</td><td>⋮</td><td>⋮</td><td>⋮</td><td>⋮</td><td>⋮</td><td>⋮</td><td>⋮</td><td>⋮</td><td>⋮</td></tr>\n",
       "\t<tr><th scope=row>4029</th><td>N96076</td><td>NA</td><td>NA</td><td>NA</td><td>2012</td><td>LEW</td><td>ATP-L</td><td>Advanced Testing Program - Leafspot</td><td>LS      </td><td>   2.000</td></tr>\n",
       "\t<tr><th scope=row>4030</th><td>N96076</td><td>NA</td><td>NA</td><td>NA</td><td>2012</td><td>LEW</td><td>ATP-L</td><td>Advanced Testing Program - Leafspot</td><td>LS      </td><td>   2.000</td></tr>\n",
       "\t<tr><th scope=row>4031</th><td>N96076</td><td>NA</td><td>NA</td><td>NA</td><td>2013</td><td>LEW</td><td>ATP-L</td><td>Advanced Testing Program - Leafspot</td><td>LS      </td><td>   3.500</td></tr>\n",
       "\t<tr><th scope=row>4032</th><td>N96076</td><td>NA</td><td>NA</td><td>NA</td><td>2013</td><td>LEW</td><td>ATP-L</td><td>Advanced Testing Program - Leafspot</td><td>LS      </td><td>   3.000</td></tr>\n",
       "\t<tr><th scope=row>4033</th><td>N96076</td><td>NA</td><td>NA</td><td>NA</td><td>2014</td><td>LEW</td><td>ATP-L</td><td>Advanced Testing Program - Leafspot</td><td>LS      </td><td>   5.810</td></tr>\n",
       "\t<tr><th scope=row>4034</th><td>N96076</td><td>NA</td><td>NA</td><td>NA</td><td>2014</td><td>LEW</td><td>ATP-L</td><td>Advanced Testing Program - Leafspot</td><td>LS      </td><td>   5.000</td></tr>\n",
       "\t<tr><th scope=row>4035</th><td>N96076</td><td>NA</td><td>NA</td><td>NA</td><td>2015</td><td>LEW</td><td>ATP-L</td><td>Advanced Testing Program - Leafspot</td><td>LS      </td><td>   3.880</td></tr>\n",
       "\t<tr><th scope=row>4036</th><td>N96076</td><td>NA</td><td>NA</td><td>NA</td><td>2015</td><td>LEW</td><td>ATP-L</td><td>Advanced Testing Program - Leafspot</td><td>LS      </td><td>   3.060</td></tr>\n",
       "\t<tr><th scope=row>4037</th><td>N96076</td><td>NA</td><td>NA</td><td>NA</td><td>2016</td><td>LEW</td><td>ATP-L</td><td>Advanced Testing Program - Leafspot</td><td>LS      </td><td>   3.000</td></tr>\n",
       "\t<tr><th scope=row>4038</th><td>N96076</td><td>NA</td><td>NA</td><td>NA</td><td>2018</td><td>LEW</td><td>ATP-L</td><td>Advanced Testing Program - Leafspot</td><td>LS      </td><td>   4.500</td></tr>\n",
       "\t<tr><th scope=row>4039</th><td>N96076</td><td>NA</td><td>NA</td><td>NA</td><td>2018</td><td>LEW</td><td>ATP-L</td><td>Advanced Testing Program - Leafspot</td><td>LS      </td><td>   4.400</td></tr>\n",
       "\t<tr><th scope=row>4040</th><td>N96076</td><td>NA</td><td>NA</td><td>NA</td><td>2011</td><td>LEW</td><td>ATP-L</td><td>Advanced Testing Program - Leafspot</td><td>Yield_UT</td><td>2169.000</td></tr>\n",
       "\t<tr><th scope=row>4041</th><td>N96076</td><td>NA</td><td>NA</td><td>NA</td><td>2011</td><td>LEW</td><td>ATP-L</td><td>Advanced Testing Program - Leafspot</td><td>Yield_UT</td><td>2956.000</td></tr>\n",
       "\t<tr><th scope=row>4042</th><td>N96076</td><td>NA</td><td>NA</td><td>NA</td><td>2012</td><td>LEW</td><td>ATP-L</td><td>Advanced Testing Program - Leafspot</td><td>Yield_UT</td><td>2039.000</td></tr>\n",
       "\t<tr><th scope=row>4043</th><td>N96076</td><td>NA</td><td>NA</td><td>NA</td><td>2012</td><td>LEW</td><td>ATP-L</td><td>Advanced Testing Program - Leafspot</td><td>Yield_UT</td><td>4018.000</td></tr>\n",
       "\t<tr><th scope=row>4044</th><td>N96076</td><td>NA</td><td>NA</td><td>NA</td><td>2013</td><td>LEW</td><td>ATP-L</td><td>Advanced Testing Program - Leafspot</td><td>Yield_UT</td><td>3033.000</td></tr>\n",
       "\t<tr><th scope=row>4045</th><td>N96076</td><td>NA</td><td>NA</td><td>NA</td><td>2013</td><td>LEW</td><td>ATP-L</td><td>Advanced Testing Program - Leafspot</td><td>Yield_UT</td><td>3456.000</td></tr>\n",
       "\t<tr><th scope=row>4046</th><td>N96076</td><td>NA</td><td>NA</td><td>NA</td><td>2014</td><td>LEW</td><td>ATP-L</td><td>Advanced Testing Program - Leafspot</td><td>Yield_UT</td><td>2233.000</td></tr>\n",
       "\t<tr><th scope=row>4047</th><td>N96076</td><td>NA</td><td>NA</td><td>NA</td><td>2014</td><td>LEW</td><td>ATP-L</td><td>Advanced Testing Program - Leafspot</td><td>Yield_UT</td><td>2378.000</td></tr>\n",
       "\t<tr><th scope=row>4048</th><td>N96076</td><td>NA</td><td>NA</td><td>NA</td><td>2015</td><td>LEW</td><td>ATP-L</td><td>Advanced Testing Program - Leafspot</td><td>Yield_UT</td><td>4371.000</td></tr>\n",
       "\t<tr><th scope=row>4049</th><td>N96076</td><td>NA</td><td>NA</td><td>NA</td><td>2015</td><td>LEW</td><td>ATP-L</td><td>Advanced Testing Program - Leafspot</td><td>Yield_UT</td><td>4581.000</td></tr>\n",
       "\t<tr><th scope=row>4050</th><td>N96076</td><td>NA</td><td>NA</td><td>NA</td><td>2016</td><td>LEW</td><td>ATP-L</td><td>Advanced Testing Program - Leafspot</td><td>Yield_UT</td><td>3084.317</td></tr>\n",
       "\t<tr><th scope=row>4051</th><td>N96076</td><td>NA</td><td>NA</td><td>NA</td><td>2016</td><td>LEW</td><td>ATP-L</td><td>Advanced Testing Program - Leafspot</td><td>Yield_UT</td><td>3084.317</td></tr>\n",
       "\t<tr><th scope=row>4052</th><td>N96076</td><td>NA</td><td>NA</td><td>NA</td><td>2017</td><td>LEW</td><td>ATP-L</td><td>Advanced Testing Program - Leafspot</td><td>Yield_UT</td><td>2889.000</td></tr>\n",
       "\t<tr><th scope=row>4081</th><td>N96076</td><td>NA</td><td>NA</td><td>NA</td><td>2017</td><td>LEW</td><td>ATP-L</td><td>Advanced Testing Program - Leafspot</td><td>Yield_UT</td><td>3659.000</td></tr>\n",
       "\t<tr><th scope=row>4082</th><td>N96076</td><td>NA</td><td>NA</td><td>NA</td><td>2018</td><td>LEW</td><td>ATP-L</td><td>Advanced Testing Program - Leafspot</td><td>Yield_UT</td><td>2314.125</td></tr>\n",
       "\t<tr><th scope=row>4083</th><td>N96076</td><td>NA</td><td>NA</td><td>NA</td><td>2018</td><td>LEW</td><td>ATP-L</td><td>Advanced Testing Program - Leafspot</td><td>Yield_UT</td><td>3084.317</td></tr>\n",
       "\t<tr><th scope=row>4086</th><td>N96076</td><td>NA</td><td>NA</td><td>NA</td><td>2016</td><td>LEW</td><td>ATP-L</td><td>Advanced Testing Program - Leafspot</td><td>LS      </td><td>   3.500</td></tr>\n",
       "\t<tr><th scope=row>4087</th><td>N96076</td><td>NA</td><td>NA</td><td>NA</td><td>2017</td><td>LEW</td><td>ATP-L</td><td>Advanced Testing Program - Leafspot</td><td>LS      </td><td>   6.140</td></tr>\n",
       "\t<tr><th scope=row>4088</th><td>N96076</td><td>NA</td><td>NA</td><td>NA</td><td>2017</td><td>LEW</td><td>ATP-L</td><td>Advanced Testing Program - Leafspot</td><td>LS      </td><td>   6.500</td></tr>\n",
       "</tbody>\n",
       "</table>\n"
      ],
      "text/latex": [
       "A data.frame: 164 × 10\n",
       "\\begin{tabular}{r|llllllllll}\n",
       "  & NC\\_Accession & Identity.or.Parentage & Pedigree & FAG & Year & Location & Name & Label & Rating & Disease\\\\\n",
       "  & <fct> & <fct> & <fct> & <fct> & <int> & <fct> & <fct> & <fct> & <fct> & <dbl>\\\\\n",
       "\\hline\n",
       "\t3 & Bailey & NC 12C*2 / N96076L & BC1F1-06-01-S-03-S-05: F09 & + + & 2010 & LEW & ATP-L & Advanced Testing Program - Leafspot & Yield\\_UT & 5112.000\\\\\n",
       "\t5 & Bailey & NC 12C*2 / N96076L & BC1F1-06-01-S-03-S-05: F09 & + + & 2015 & LEW & ATP-L & Advanced Testing Program - Leafspot & Yield\\_UT & 3373.000\\\\\n",
       "\t6 & Bailey & NC 12C*2 / N96076L & BC1F1-06-01-S-03-S-05: F09 & + + & 2014 & LEW & ATP-L & Advanced Testing Program - Leafspot & Yield\\_UT & 2685.000\\\\\n",
       "\t7 & Bailey & NC 12C*2 / N96076L & BC1F1-06-01-S-03-S-05: F09 & + + & 2010 & LEW & ATP-L & Advanced Testing Program - Leafspot & Yield\\_UT & 4973.000\\\\\n",
       "\t8 & Bailey & NC 12C*2 / N96076L & BC1F1-06-01-S-03-S-05: F09 & + + & 2017 & LEW & ATP-L & Advanced Testing Program - Leafspot & Yield\\_UT & 3050.000\\\\\n",
       "\t9 & Bailey & NC 12C*2 / N96076L & BC1F1-06-01-S-03-S-05: F09 & + + & 2013 & LEW & ATP-L & Advanced Testing Program - Leafspot & Yield\\_UT & 3199.000\\\\\n",
       "\t10 & Bailey & NC 12C*2 / N96076L & BC1F1-06-01-S-03-S-05: F09 & + + & 2010 & LEW & ATP-L & Advanced Testing Program - Leafspot & LS       &    2.500\\\\\n",
       "\t12 & Bailey & NC 12C*2 / N96076L & BC1F1-06-01-S-03-S-05: F09 & + + & 2016 & LEW & ATP-L & Advanced Testing Program - Leafspot & Yield\\_UT & 3310.308\\\\\n",
       "\t14 & Bailey & NC 12C*2 / N96076L & BC1F1-06-01-S-03-S-05: F09 & + + & 2017 & LEW & ATP-L & Advanced Testing Program - Leafspot & LS       &    8.000\\\\\n",
       "\t19 & Bailey & NC 12C*2 / N96076L & BC1F1-06-01-S-03-S-05: F09 & + + & 2012 & LEW & ATP-L & Advanced Testing Program - Leafspot & Yield\\_UT & 3719.000\\\\\n",
       "\t20 & Bailey & NC 12C*2 / N96076L & BC1F1-06-01-S-03-S-05: F09 & + + & 2016 & LEW & ATP-L & Advanced Testing Program - Leafspot & LS       &    4.000\\\\\n",
       "\t22 & Bailey & NC 12C*2 / N96076L & BC1F1-06-01-S-03-S-05: F09 & + + & 2011 & LEW & ATP-L & Advanced Testing Program - Leafspot & Yield\\_UT & 2827.000\\\\\n",
       "\t25 & Bailey & NC 12C*2 / N96076L & BC1F1-06-01-S-03-S-05: F09 & + + & 2015 & LEW & ATP-L & Advanced Testing Program - Leafspot & Yield\\_UT & 3589.000\\\\\n",
       "\t26 & Bailey & NC 12C*2 / N96076L & BC1F1-06-01-S-03-S-05: F09 & + + & 2016 & LEW & ATP-L & Advanced Testing Program - Leafspot & Yield\\_UT & 3310.308\\\\\n",
       "\t27 & Bailey & NC 12C*2 / N96076L & BC1F1-06-01-S-03-S-05: F09 & + + & 2012 & LEW & ATP-L & Advanced Testing Program - Leafspot & Yield\\_UT & 2801.000\\\\\n",
       "\t30 & Bailey & NC 12C*2 / N96076L & BC1F1-06-01-S-03-S-05: F09 & + + & 2010 & LEW & ATP-L & Advanced Testing Program - Leafspot & LS       &    2.550\\\\\n",
       "\t31 & Bailey & NC 12C*2 / N96076L & BC1F1-06-01-S-03-S-05: F09 & + + & 2014 & LEW & ATP-L & Advanced Testing Program - Leafspot & Yield\\_UT & 2774.000\\\\\n",
       "\t33 & Bailey & NC 12C*2 / N96076L & BC1F1-06-01-S-03-S-05: F09 & + + & 2016 & LEW & ATP-L & Advanced Testing Program - Leafspot & LS       &    6.000\\\\\n",
       "\t34 & Bailey & NC 12C*2 / N96076L & BC1F1-06-01-S-03-S-05: F09 & + + & 2011 & LEW & ATP-L & Advanced Testing Program - Leafspot & LS       &    7.170\\\\\n",
       "\t38 & Bailey & NC 12C*2 / N96076L & BC1F1-06-01-S-03-S-05: F09 & + + & 2015 & LEW & ATP-L & Advanced Testing Program - Leafspot & LS       &    5.790\\\\\n",
       "\t39 & Bailey & NC 12C*2 / N96076L & BC1F1-06-01-S-03-S-05: F09 & + + & 2015 & LEW & ATP-L & Advanced Testing Program - Leafspot & LS       &    4.710\\\\\n",
       "\t40 & Bailey & NC 12C*2 / N96076L & BC1F1-06-01-S-03-S-05: F09 & + + & 2013 & LEW & ATP-L & Advanced Testing Program - Leafspot & Yield\\_UT & 2291.000\\\\\n",
       "\t42 & Bailey & NC 12C*2 / N96076L & BC1F1-06-01-S-03-S-05: F09 & + + & 2014 & LEW & ATP-L & Advanced Testing Program - Leafspot & LS       &    7.010\\\\\n",
       "\t44 & Bailey & NC 12C*2 / N96076L & BC1F1-06-01-S-03-S-05: F09 & + + & 2011 & LEW & ATP-L & Advanced Testing Program - Leafspot & Yield\\_UT & 2641.000\\\\\n",
       "\t45 & Bailey & NC 12C*2 / N96076L & BC1F1-06-01-S-03-S-05: F09 & + + & 2011 & LEW & ATP-L & Advanced Testing Program - Leafspot & LS       &    7.190\\\\\n",
       "\t48 & Bailey & NC 12C*2 / N96076L & BC1F1-06-01-S-03-S-05: F09 & + + & 2013 & LEW & ATP-L & Advanced Testing Program - Leafspot & LS       &    3.000\\\\\n",
       "\t53 & Bailey & NC 12C*2 / N96076L & BC1F1-06-01-S-03-S-05: F09 & + + & 2014 & LEW & ATP-L & Advanced Testing Program - Leafspot & LS       &    6.500\\\\\n",
       "\t54 & Bailey & NC 12C*2 / N96076L & BC1F1-06-01-S-03-S-05: F09 & + + & 2012 & LEW & ATP-L & Advanced Testing Program - Leafspot & LS       &    2.000\\\\\n",
       "\t59 & Bailey & NC 12C*2 / N96076L & BC1F1-06-01-S-03-S-05: F09 & + + & 2012 & LEW & ATP-L & Advanced Testing Program - Leafspot & LS       &    2.000\\\\\n",
       "\t61 & Bailey & NC 12C*2 / N96076L & BC1F1-06-01-S-03-S-05: F09 & + + & 2013 & LEW & ATP-L & Advanced Testing Program - Leafspot & LS       &    4.000\\\\\n",
       "\t⋮ & ⋮ & ⋮ & ⋮ & ⋮ & ⋮ & ⋮ & ⋮ & ⋮ & ⋮ & ⋮\\\\\n",
       "\t4029 & N96076 & NA & NA & NA & 2012 & LEW & ATP-L & Advanced Testing Program - Leafspot & LS       &    2.000\\\\\n",
       "\t4030 & N96076 & NA & NA & NA & 2012 & LEW & ATP-L & Advanced Testing Program - Leafspot & LS       &    2.000\\\\\n",
       "\t4031 & N96076 & NA & NA & NA & 2013 & LEW & ATP-L & Advanced Testing Program - Leafspot & LS       &    3.500\\\\\n",
       "\t4032 & N96076 & NA & NA & NA & 2013 & LEW & ATP-L & Advanced Testing Program - Leafspot & LS       &    3.000\\\\\n",
       "\t4033 & N96076 & NA & NA & NA & 2014 & LEW & ATP-L & Advanced Testing Program - Leafspot & LS       &    5.810\\\\\n",
       "\t4034 & N96076 & NA & NA & NA & 2014 & LEW & ATP-L & Advanced Testing Program - Leafspot & LS       &    5.000\\\\\n",
       "\t4035 & N96076 & NA & NA & NA & 2015 & LEW & ATP-L & Advanced Testing Program - Leafspot & LS       &    3.880\\\\\n",
       "\t4036 & N96076 & NA & NA & NA & 2015 & LEW & ATP-L & Advanced Testing Program - Leafspot & LS       &    3.060\\\\\n",
       "\t4037 & N96076 & NA & NA & NA & 2016 & LEW & ATP-L & Advanced Testing Program - Leafspot & LS       &    3.000\\\\\n",
       "\t4038 & N96076 & NA & NA & NA & 2018 & LEW & ATP-L & Advanced Testing Program - Leafspot & LS       &    4.500\\\\\n",
       "\t4039 & N96076 & NA & NA & NA & 2018 & LEW & ATP-L & Advanced Testing Program - Leafspot & LS       &    4.400\\\\\n",
       "\t4040 & N96076 & NA & NA & NA & 2011 & LEW & ATP-L & Advanced Testing Program - Leafspot & Yield\\_UT & 2169.000\\\\\n",
       "\t4041 & N96076 & NA & NA & NA & 2011 & LEW & ATP-L & Advanced Testing Program - Leafspot & Yield\\_UT & 2956.000\\\\\n",
       "\t4042 & N96076 & NA & NA & NA & 2012 & LEW & ATP-L & Advanced Testing Program - Leafspot & Yield\\_UT & 2039.000\\\\\n",
       "\t4043 & N96076 & NA & NA & NA & 2012 & LEW & ATP-L & Advanced Testing Program - Leafspot & Yield\\_UT & 4018.000\\\\\n",
       "\t4044 & N96076 & NA & NA & NA & 2013 & LEW & ATP-L & Advanced Testing Program - Leafspot & Yield\\_UT & 3033.000\\\\\n",
       "\t4045 & N96076 & NA & NA & NA & 2013 & LEW & ATP-L & Advanced Testing Program - Leafspot & Yield\\_UT & 3456.000\\\\\n",
       "\t4046 & N96076 & NA & NA & NA & 2014 & LEW & ATP-L & Advanced Testing Program - Leafspot & Yield\\_UT & 2233.000\\\\\n",
       "\t4047 & N96076 & NA & NA & NA & 2014 & LEW & ATP-L & Advanced Testing Program - Leafspot & Yield\\_UT & 2378.000\\\\\n",
       "\t4048 & N96076 & NA & NA & NA & 2015 & LEW & ATP-L & Advanced Testing Program - Leafspot & Yield\\_UT & 4371.000\\\\\n",
       "\t4049 & N96076 & NA & NA & NA & 2015 & LEW & ATP-L & Advanced Testing Program - Leafspot & Yield\\_UT & 4581.000\\\\\n",
       "\t4050 & N96076 & NA & NA & NA & 2016 & LEW & ATP-L & Advanced Testing Program - Leafspot & Yield\\_UT & 3084.317\\\\\n",
       "\t4051 & N96076 & NA & NA & NA & 2016 & LEW & ATP-L & Advanced Testing Program - Leafspot & Yield\\_UT & 3084.317\\\\\n",
       "\t4052 & N96076 & NA & NA & NA & 2017 & LEW & ATP-L & Advanced Testing Program - Leafspot & Yield\\_UT & 2889.000\\\\\n",
       "\t4081 & N96076 & NA & NA & NA & 2017 & LEW & ATP-L & Advanced Testing Program - Leafspot & Yield\\_UT & 3659.000\\\\\n",
       "\t4082 & N96076 & NA & NA & NA & 2018 & LEW & ATP-L & Advanced Testing Program - Leafspot & Yield\\_UT & 2314.125\\\\\n",
       "\t4083 & N96076 & NA & NA & NA & 2018 & LEW & ATP-L & Advanced Testing Program - Leafspot & Yield\\_UT & 3084.317\\\\\n",
       "\t4086 & N96076 & NA & NA & NA & 2016 & LEW & ATP-L & Advanced Testing Program - Leafspot & LS       &    3.500\\\\\n",
       "\t4087 & N96076 & NA & NA & NA & 2017 & LEW & ATP-L & Advanced Testing Program - Leafspot & LS       &    6.140\\\\\n",
       "\t4088 & N96076 & NA & NA & NA & 2017 & LEW & ATP-L & Advanced Testing Program - Leafspot & LS       &    6.500\\\\\n",
       "\\end{tabular}\n"
      ],
      "text/markdown": [
       "\n",
       "A data.frame: 164 × 10\n",
       "\n",
       "| <!--/--> | NC_Accession &lt;fct&gt; | Identity.or.Parentage &lt;fct&gt; | Pedigree &lt;fct&gt; | FAG &lt;fct&gt; | Year &lt;int&gt; | Location &lt;fct&gt; | Name &lt;fct&gt; | Label &lt;fct&gt; | Rating &lt;fct&gt; | Disease &lt;dbl&gt; |\n",
       "|---|---|---|---|---|---|---|---|---|---|---|\n",
       "| 3 | Bailey | NC 12C*2 / N96076L | BC1F1-06-01-S-03-S-05: F09 | + + | 2010 | LEW | ATP-L | Advanced Testing Program - Leafspot | Yield_UT | 5112.000 |\n",
       "| 5 | Bailey | NC 12C*2 / N96076L | BC1F1-06-01-S-03-S-05: F09 | + + | 2015 | LEW | ATP-L | Advanced Testing Program - Leafspot | Yield_UT | 3373.000 |\n",
       "| 6 | Bailey | NC 12C*2 / N96076L | BC1F1-06-01-S-03-S-05: F09 | + + | 2014 | LEW | ATP-L | Advanced Testing Program - Leafspot | Yield_UT | 2685.000 |\n",
       "| 7 | Bailey | NC 12C*2 / N96076L | BC1F1-06-01-S-03-S-05: F09 | + + | 2010 | LEW | ATP-L | Advanced Testing Program - Leafspot | Yield_UT | 4973.000 |\n",
       "| 8 | Bailey | NC 12C*2 / N96076L | BC1F1-06-01-S-03-S-05: F09 | + + | 2017 | LEW | ATP-L | Advanced Testing Program - Leafspot | Yield_UT | 3050.000 |\n",
       "| 9 | Bailey | NC 12C*2 / N96076L | BC1F1-06-01-S-03-S-05: F09 | + + | 2013 | LEW | ATP-L | Advanced Testing Program - Leafspot | Yield_UT | 3199.000 |\n",
       "| 10 | Bailey | NC 12C*2 / N96076L | BC1F1-06-01-S-03-S-05: F09 | + + | 2010 | LEW | ATP-L | Advanced Testing Program - Leafspot | LS       |    2.500 |\n",
       "| 12 | Bailey | NC 12C*2 / N96076L | BC1F1-06-01-S-03-S-05: F09 | + + | 2016 | LEW | ATP-L | Advanced Testing Program - Leafspot | Yield_UT | 3310.308 |\n",
       "| 14 | Bailey | NC 12C*2 / N96076L | BC1F1-06-01-S-03-S-05: F09 | + + | 2017 | LEW | ATP-L | Advanced Testing Program - Leafspot | LS       |    8.000 |\n",
       "| 19 | Bailey | NC 12C*2 / N96076L | BC1F1-06-01-S-03-S-05: F09 | + + | 2012 | LEW | ATP-L | Advanced Testing Program - Leafspot | Yield_UT | 3719.000 |\n",
       "| 20 | Bailey | NC 12C*2 / N96076L | BC1F1-06-01-S-03-S-05: F09 | + + | 2016 | LEW | ATP-L | Advanced Testing Program - Leafspot | LS       |    4.000 |\n",
       "| 22 | Bailey | NC 12C*2 / N96076L | BC1F1-06-01-S-03-S-05: F09 | + + | 2011 | LEW | ATP-L | Advanced Testing Program - Leafspot | Yield_UT | 2827.000 |\n",
       "| 25 | Bailey | NC 12C*2 / N96076L | BC1F1-06-01-S-03-S-05: F09 | + + | 2015 | LEW | ATP-L | Advanced Testing Program - Leafspot | Yield_UT | 3589.000 |\n",
       "| 26 | Bailey | NC 12C*2 / N96076L | BC1F1-06-01-S-03-S-05: F09 | + + | 2016 | LEW | ATP-L | Advanced Testing Program - Leafspot | Yield_UT | 3310.308 |\n",
       "| 27 | Bailey | NC 12C*2 / N96076L | BC1F1-06-01-S-03-S-05: F09 | + + | 2012 | LEW | ATP-L | Advanced Testing Program - Leafspot | Yield_UT | 2801.000 |\n",
       "| 30 | Bailey | NC 12C*2 / N96076L | BC1F1-06-01-S-03-S-05: F09 | + + | 2010 | LEW | ATP-L | Advanced Testing Program - Leafspot | LS       |    2.550 |\n",
       "| 31 | Bailey | NC 12C*2 / N96076L | BC1F1-06-01-S-03-S-05: F09 | + + | 2014 | LEW | ATP-L | Advanced Testing Program - Leafspot | Yield_UT | 2774.000 |\n",
       "| 33 | Bailey | NC 12C*2 / N96076L | BC1F1-06-01-S-03-S-05: F09 | + + | 2016 | LEW | ATP-L | Advanced Testing Program - Leafspot | LS       |    6.000 |\n",
       "| 34 | Bailey | NC 12C*2 / N96076L | BC1F1-06-01-S-03-S-05: F09 | + + | 2011 | LEW | ATP-L | Advanced Testing Program - Leafspot | LS       |    7.170 |\n",
       "| 38 | Bailey | NC 12C*2 / N96076L | BC1F1-06-01-S-03-S-05: F09 | + + | 2015 | LEW | ATP-L | Advanced Testing Program - Leafspot | LS       |    5.790 |\n",
       "| 39 | Bailey | NC 12C*2 / N96076L | BC1F1-06-01-S-03-S-05: F09 | + + | 2015 | LEW | ATP-L | Advanced Testing Program - Leafspot | LS       |    4.710 |\n",
       "| 40 | Bailey | NC 12C*2 / N96076L | BC1F1-06-01-S-03-S-05: F09 | + + | 2013 | LEW | ATP-L | Advanced Testing Program - Leafspot | Yield_UT | 2291.000 |\n",
       "| 42 | Bailey | NC 12C*2 / N96076L | BC1F1-06-01-S-03-S-05: F09 | + + | 2014 | LEW | ATP-L | Advanced Testing Program - Leafspot | LS       |    7.010 |\n",
       "| 44 | Bailey | NC 12C*2 / N96076L | BC1F1-06-01-S-03-S-05: F09 | + + | 2011 | LEW | ATP-L | Advanced Testing Program - Leafspot | Yield_UT | 2641.000 |\n",
       "| 45 | Bailey | NC 12C*2 / N96076L | BC1F1-06-01-S-03-S-05: F09 | + + | 2011 | LEW | ATP-L | Advanced Testing Program - Leafspot | LS       |    7.190 |\n",
       "| 48 | Bailey | NC 12C*2 / N96076L | BC1F1-06-01-S-03-S-05: F09 | + + | 2013 | LEW | ATP-L | Advanced Testing Program - Leafspot | LS       |    3.000 |\n",
       "| 53 | Bailey | NC 12C*2 / N96076L | BC1F1-06-01-S-03-S-05: F09 | + + | 2014 | LEW | ATP-L | Advanced Testing Program - Leafspot | LS       |    6.500 |\n",
       "| 54 | Bailey | NC 12C*2 / N96076L | BC1F1-06-01-S-03-S-05: F09 | + + | 2012 | LEW | ATP-L | Advanced Testing Program - Leafspot | LS       |    2.000 |\n",
       "| 59 | Bailey | NC 12C*2 / N96076L | BC1F1-06-01-S-03-S-05: F09 | + + | 2012 | LEW | ATP-L | Advanced Testing Program - Leafspot | LS       |    2.000 |\n",
       "| 61 | Bailey | NC 12C*2 / N96076L | BC1F1-06-01-S-03-S-05: F09 | + + | 2013 | LEW | ATP-L | Advanced Testing Program - Leafspot | LS       |    4.000 |\n",
       "| ⋮ | ⋮ | ⋮ | ⋮ | ⋮ | ⋮ | ⋮ | ⋮ | ⋮ | ⋮ | ⋮ |\n",
       "| 4029 | N96076 | NA | NA | NA | 2012 | LEW | ATP-L | Advanced Testing Program - Leafspot | LS       |    2.000 |\n",
       "| 4030 | N96076 | NA | NA | NA | 2012 | LEW | ATP-L | Advanced Testing Program - Leafspot | LS       |    2.000 |\n",
       "| 4031 | N96076 | NA | NA | NA | 2013 | LEW | ATP-L | Advanced Testing Program - Leafspot | LS       |    3.500 |\n",
       "| 4032 | N96076 | NA | NA | NA | 2013 | LEW | ATP-L | Advanced Testing Program - Leafspot | LS       |    3.000 |\n",
       "| 4033 | N96076 | NA | NA | NA | 2014 | LEW | ATP-L | Advanced Testing Program - Leafspot | LS       |    5.810 |\n",
       "| 4034 | N96076 | NA | NA | NA | 2014 | LEW | ATP-L | Advanced Testing Program - Leafspot | LS       |    5.000 |\n",
       "| 4035 | N96076 | NA | NA | NA | 2015 | LEW | ATP-L | Advanced Testing Program - Leafspot | LS       |    3.880 |\n",
       "| 4036 | N96076 | NA | NA | NA | 2015 | LEW | ATP-L | Advanced Testing Program - Leafspot | LS       |    3.060 |\n",
       "| 4037 | N96076 | NA | NA | NA | 2016 | LEW | ATP-L | Advanced Testing Program - Leafspot | LS       |    3.000 |\n",
       "| 4038 | N96076 | NA | NA | NA | 2018 | LEW | ATP-L | Advanced Testing Program - Leafspot | LS       |    4.500 |\n",
       "| 4039 | N96076 | NA | NA | NA | 2018 | LEW | ATP-L | Advanced Testing Program - Leafspot | LS       |    4.400 |\n",
       "| 4040 | N96076 | NA | NA | NA | 2011 | LEW | ATP-L | Advanced Testing Program - Leafspot | Yield_UT | 2169.000 |\n",
       "| 4041 | N96076 | NA | NA | NA | 2011 | LEW | ATP-L | Advanced Testing Program - Leafspot | Yield_UT | 2956.000 |\n",
       "| 4042 | N96076 | NA | NA | NA | 2012 | LEW | ATP-L | Advanced Testing Program - Leafspot | Yield_UT | 2039.000 |\n",
       "| 4043 | N96076 | NA | NA | NA | 2012 | LEW | ATP-L | Advanced Testing Program - Leafspot | Yield_UT | 4018.000 |\n",
       "| 4044 | N96076 | NA | NA | NA | 2013 | LEW | ATP-L | Advanced Testing Program - Leafspot | Yield_UT | 3033.000 |\n",
       "| 4045 | N96076 | NA | NA | NA | 2013 | LEW | ATP-L | Advanced Testing Program - Leafspot | Yield_UT | 3456.000 |\n",
       "| 4046 | N96076 | NA | NA | NA | 2014 | LEW | ATP-L | Advanced Testing Program - Leafspot | Yield_UT | 2233.000 |\n",
       "| 4047 | N96076 | NA | NA | NA | 2014 | LEW | ATP-L | Advanced Testing Program - Leafspot | Yield_UT | 2378.000 |\n",
       "| 4048 | N96076 | NA | NA | NA | 2015 | LEW | ATP-L | Advanced Testing Program - Leafspot | Yield_UT | 4371.000 |\n",
       "| 4049 | N96076 | NA | NA | NA | 2015 | LEW | ATP-L | Advanced Testing Program - Leafspot | Yield_UT | 4581.000 |\n",
       "| 4050 | N96076 | NA | NA | NA | 2016 | LEW | ATP-L | Advanced Testing Program - Leafspot | Yield_UT | 3084.317 |\n",
       "| 4051 | N96076 | NA | NA | NA | 2016 | LEW | ATP-L | Advanced Testing Program - Leafspot | Yield_UT | 3084.317 |\n",
       "| 4052 | N96076 | NA | NA | NA | 2017 | LEW | ATP-L | Advanced Testing Program - Leafspot | Yield_UT | 2889.000 |\n",
       "| 4081 | N96076 | NA | NA | NA | 2017 | LEW | ATP-L | Advanced Testing Program - Leafspot | Yield_UT | 3659.000 |\n",
       "| 4082 | N96076 | NA | NA | NA | 2018 | LEW | ATP-L | Advanced Testing Program - Leafspot | Yield_UT | 2314.125 |\n",
       "| 4083 | N96076 | NA | NA | NA | 2018 | LEW | ATP-L | Advanced Testing Program - Leafspot | Yield_UT | 3084.317 |\n",
       "| 4086 | N96076 | NA | NA | NA | 2016 | LEW | ATP-L | Advanced Testing Program - Leafspot | LS       |    3.500 |\n",
       "| 4087 | N96076 | NA | NA | NA | 2017 | LEW | ATP-L | Advanced Testing Program - Leafspot | LS       |    6.140 |\n",
       "| 4088 | N96076 | NA | NA | NA | 2017 | LEW | ATP-L | Advanced Testing Program - Leafspot | LS       |    6.500 |\n",
       "\n"
      ],
      "text/plain": [
       "     NC_Accession Identity.or.Parentage Pedigree                   FAG Year\n",
       "3    Bailey       NC 12C*2 / N96076L    BC1F1-06-01-S-03-S-05: F09 + + 2010\n",
       "5    Bailey       NC 12C*2 / N96076L    BC1F1-06-01-S-03-S-05: F09 + + 2015\n",
       "6    Bailey       NC 12C*2 / N96076L    BC1F1-06-01-S-03-S-05: F09 + + 2014\n",
       "7    Bailey       NC 12C*2 / N96076L    BC1F1-06-01-S-03-S-05: F09 + + 2010\n",
       "8    Bailey       NC 12C*2 / N96076L    BC1F1-06-01-S-03-S-05: F09 + + 2017\n",
       "9    Bailey       NC 12C*2 / N96076L    BC1F1-06-01-S-03-S-05: F09 + + 2013\n",
       "10   Bailey       NC 12C*2 / N96076L    BC1F1-06-01-S-03-S-05: F09 + + 2010\n",
       "12   Bailey       NC 12C*2 / N96076L    BC1F1-06-01-S-03-S-05: F09 + + 2016\n",
       "14   Bailey       NC 12C*2 / N96076L    BC1F1-06-01-S-03-S-05: F09 + + 2017\n",
       "19   Bailey       NC 12C*2 / N96076L    BC1F1-06-01-S-03-S-05: F09 + + 2012\n",
       "20   Bailey       NC 12C*2 / N96076L    BC1F1-06-01-S-03-S-05: F09 + + 2016\n",
       "22   Bailey       NC 12C*2 / N96076L    BC1F1-06-01-S-03-S-05: F09 + + 2011\n",
       "25   Bailey       NC 12C*2 / N96076L    BC1F1-06-01-S-03-S-05: F09 + + 2015\n",
       "26   Bailey       NC 12C*2 / N96076L    BC1F1-06-01-S-03-S-05: F09 + + 2016\n",
       "27   Bailey       NC 12C*2 / N96076L    BC1F1-06-01-S-03-S-05: F09 + + 2012\n",
       "30   Bailey       NC 12C*2 / N96076L    BC1F1-06-01-S-03-S-05: F09 + + 2010\n",
       "31   Bailey       NC 12C*2 / N96076L    BC1F1-06-01-S-03-S-05: F09 + + 2014\n",
       "33   Bailey       NC 12C*2 / N96076L    BC1F1-06-01-S-03-S-05: F09 + + 2016\n",
       "34   Bailey       NC 12C*2 / N96076L    BC1F1-06-01-S-03-S-05: F09 + + 2011\n",
       "38   Bailey       NC 12C*2 / N96076L    BC1F1-06-01-S-03-S-05: F09 + + 2015\n",
       "39   Bailey       NC 12C*2 / N96076L    BC1F1-06-01-S-03-S-05: F09 + + 2015\n",
       "40   Bailey       NC 12C*2 / N96076L    BC1F1-06-01-S-03-S-05: F09 + + 2013\n",
       "42   Bailey       NC 12C*2 / N96076L    BC1F1-06-01-S-03-S-05: F09 + + 2014\n",
       "44   Bailey       NC 12C*2 / N96076L    BC1F1-06-01-S-03-S-05: F09 + + 2011\n",
       "45   Bailey       NC 12C*2 / N96076L    BC1F1-06-01-S-03-S-05: F09 + + 2011\n",
       "48   Bailey       NC 12C*2 / N96076L    BC1F1-06-01-S-03-S-05: F09 + + 2013\n",
       "53   Bailey       NC 12C*2 / N96076L    BC1F1-06-01-S-03-S-05: F09 + + 2014\n",
       "54   Bailey       NC 12C*2 / N96076L    BC1F1-06-01-S-03-S-05: F09 + + 2012\n",
       "59   Bailey       NC 12C*2 / N96076L    BC1F1-06-01-S-03-S-05: F09 + + 2012\n",
       "61   Bailey       NC 12C*2 / N96076L    BC1F1-06-01-S-03-S-05: F09 + + 2013\n",
       "⋮    ⋮            ⋮                     ⋮                          ⋮   ⋮   \n",
       "4029 N96076       NA                    NA                         NA  2012\n",
       "4030 N96076       NA                    NA                         NA  2012\n",
       "4031 N96076       NA                    NA                         NA  2013\n",
       "4032 N96076       NA                    NA                         NA  2013\n",
       "4033 N96076       NA                    NA                         NA  2014\n",
       "4034 N96076       NA                    NA                         NA  2014\n",
       "4035 N96076       NA                    NA                         NA  2015\n",
       "4036 N96076       NA                    NA                         NA  2015\n",
       "4037 N96076       NA                    NA                         NA  2016\n",
       "4038 N96076       NA                    NA                         NA  2018\n",
       "4039 N96076       NA                    NA                         NA  2018\n",
       "4040 N96076       NA                    NA                         NA  2011\n",
       "4041 N96076       NA                    NA                         NA  2011\n",
       "4042 N96076       NA                    NA                         NA  2012\n",
       "4043 N96076       NA                    NA                         NA  2012\n",
       "4044 N96076       NA                    NA                         NA  2013\n",
       "4045 N96076       NA                    NA                         NA  2013\n",
       "4046 N96076       NA                    NA                         NA  2014\n",
       "4047 N96076       NA                    NA                         NA  2014\n",
       "4048 N96076       NA                    NA                         NA  2015\n",
       "4049 N96076       NA                    NA                         NA  2015\n",
       "4050 N96076       NA                    NA                         NA  2016\n",
       "4051 N96076       NA                    NA                         NA  2016\n",
       "4052 N96076       NA                    NA                         NA  2017\n",
       "4081 N96076       NA                    NA                         NA  2017\n",
       "4082 N96076       NA                    NA                         NA  2018\n",
       "4083 N96076       NA                    NA                         NA  2018\n",
       "4086 N96076       NA                    NA                         NA  2016\n",
       "4087 N96076       NA                    NA                         NA  2017\n",
       "4088 N96076       NA                    NA                         NA  2017\n",
       "     Location Name  Label                               Rating   Disease \n",
       "3    LEW      ATP-L Advanced Testing Program - Leafspot Yield_UT 5112.000\n",
       "5    LEW      ATP-L Advanced Testing Program - Leafspot Yield_UT 3373.000\n",
       "6    LEW      ATP-L Advanced Testing Program - Leafspot Yield_UT 2685.000\n",
       "7    LEW      ATP-L Advanced Testing Program - Leafspot Yield_UT 4973.000\n",
       "8    LEW      ATP-L Advanced Testing Program - Leafspot Yield_UT 3050.000\n",
       "9    LEW      ATP-L Advanced Testing Program - Leafspot Yield_UT 3199.000\n",
       "10   LEW      ATP-L Advanced Testing Program - Leafspot LS          2.500\n",
       "12   LEW      ATP-L Advanced Testing Program - Leafspot Yield_UT 3310.308\n",
       "14   LEW      ATP-L Advanced Testing Program - Leafspot LS          8.000\n",
       "19   LEW      ATP-L Advanced Testing Program - Leafspot Yield_UT 3719.000\n",
       "20   LEW      ATP-L Advanced Testing Program - Leafspot LS          4.000\n",
       "22   LEW      ATP-L Advanced Testing Program - Leafspot Yield_UT 2827.000\n",
       "25   LEW      ATP-L Advanced Testing Program - Leafspot Yield_UT 3589.000\n",
       "26   LEW      ATP-L Advanced Testing Program - Leafspot Yield_UT 3310.308\n",
       "27   LEW      ATP-L Advanced Testing Program - Leafspot Yield_UT 2801.000\n",
       "30   LEW      ATP-L Advanced Testing Program - Leafspot LS          2.550\n",
       "31   LEW      ATP-L Advanced Testing Program - Leafspot Yield_UT 2774.000\n",
       "33   LEW      ATP-L Advanced Testing Program - Leafspot LS          6.000\n",
       "34   LEW      ATP-L Advanced Testing Program - Leafspot LS          7.170\n",
       "38   LEW      ATP-L Advanced Testing Program - Leafspot LS          5.790\n",
       "39   LEW      ATP-L Advanced Testing Program - Leafspot LS          4.710\n",
       "40   LEW      ATP-L Advanced Testing Program - Leafspot Yield_UT 2291.000\n",
       "42   LEW      ATP-L Advanced Testing Program - Leafspot LS          7.010\n",
       "44   LEW      ATP-L Advanced Testing Program - Leafspot Yield_UT 2641.000\n",
       "45   LEW      ATP-L Advanced Testing Program - Leafspot LS          7.190\n",
       "48   LEW      ATP-L Advanced Testing Program - Leafspot LS          3.000\n",
       "53   LEW      ATP-L Advanced Testing Program - Leafspot LS          6.500\n",
       "54   LEW      ATP-L Advanced Testing Program - Leafspot LS          2.000\n",
       "59   LEW      ATP-L Advanced Testing Program - Leafspot LS          2.000\n",
       "61   LEW      ATP-L Advanced Testing Program - Leafspot LS          4.000\n",
       "⋮    ⋮        ⋮     ⋮                                   ⋮        ⋮       \n",
       "4029 LEW      ATP-L Advanced Testing Program - Leafspot LS          2.000\n",
       "4030 LEW      ATP-L Advanced Testing Program - Leafspot LS          2.000\n",
       "4031 LEW      ATP-L Advanced Testing Program - Leafspot LS          3.500\n",
       "4032 LEW      ATP-L Advanced Testing Program - Leafspot LS          3.000\n",
       "4033 LEW      ATP-L Advanced Testing Program - Leafspot LS          5.810\n",
       "4034 LEW      ATP-L Advanced Testing Program - Leafspot LS          5.000\n",
       "4035 LEW      ATP-L Advanced Testing Program - Leafspot LS          3.880\n",
       "4036 LEW      ATP-L Advanced Testing Program - Leafspot LS          3.060\n",
       "4037 LEW      ATP-L Advanced Testing Program - Leafspot LS          3.000\n",
       "4038 LEW      ATP-L Advanced Testing Program - Leafspot LS          4.500\n",
       "4039 LEW      ATP-L Advanced Testing Program - Leafspot LS          4.400\n",
       "4040 LEW      ATP-L Advanced Testing Program - Leafspot Yield_UT 2169.000\n",
       "4041 LEW      ATP-L Advanced Testing Program - Leafspot Yield_UT 2956.000\n",
       "4042 LEW      ATP-L Advanced Testing Program - Leafspot Yield_UT 2039.000\n",
       "4043 LEW      ATP-L Advanced Testing Program - Leafspot Yield_UT 4018.000\n",
       "4044 LEW      ATP-L Advanced Testing Program - Leafspot Yield_UT 3033.000\n",
       "4045 LEW      ATP-L Advanced Testing Program - Leafspot Yield_UT 3456.000\n",
       "4046 LEW      ATP-L Advanced Testing Program - Leafspot Yield_UT 2233.000\n",
       "4047 LEW      ATP-L Advanced Testing Program - Leafspot Yield_UT 2378.000\n",
       "4048 LEW      ATP-L Advanced Testing Program - Leafspot Yield_UT 4371.000\n",
       "4049 LEW      ATP-L Advanced Testing Program - Leafspot Yield_UT 4581.000\n",
       "4050 LEW      ATP-L Advanced Testing Program - Leafspot Yield_UT 3084.317\n",
       "4051 LEW      ATP-L Advanced Testing Program - Leafspot Yield_UT 3084.317\n",
       "4052 LEW      ATP-L Advanced Testing Program - Leafspot Yield_UT 2889.000\n",
       "4081 LEW      ATP-L Advanced Testing Program - Leafspot Yield_UT 3659.000\n",
       "4082 LEW      ATP-L Advanced Testing Program - Leafspot Yield_UT 2314.125\n",
       "4083 LEW      ATP-L Advanced Testing Program - Leafspot Yield_UT 3084.317\n",
       "4086 LEW      ATP-L Advanced Testing Program - Leafspot LS          3.500\n",
       "4087 LEW      ATP-L Advanced Testing Program - Leafspot LS          6.140\n",
       "4088 LEW      ATP-L Advanced Testing Program - Leafspot LS          6.500"
      ]
     },
     "metadata": {},
     "output_type": "display_data"
    }
   ],
   "source": [
    "line_names = c('Bailey', 'Bailey II', 'Wynne', 'Sullivan', 'Emery', 'N96076')\n",
    "leaf.spot.subset <- subset(leaf.spot, NC_Accession %in% line_names)\n",
    "leaf.spot.subset"
   ]
  },
  {
   "cell_type": "markdown",
   "metadata": {},
   "source": [
    "10. Which line is the most leaf spot resistant?"
   ]
  },
  {
   "cell_type": "code",
   "execution_count": 33,
   "metadata": {},
   "outputs": [],
   "source": [
    "help(aggregate)"
   ]
  },
  {
   "cell_type": "code",
   "execution_count": 39,
   "metadata": {
    "scrolled": true
   },
   "outputs": [
    {
     "name": "stderr",
     "output_type": "stream",
     "text": [
      "Warning message in mean.default(X[[i]], ...):\n",
      "“argument is not numeric or logical: returning NA”Warning message in mean.default(X[[i]], ...):\n",
      "“argument is not numeric or logical: returning NA”Warning message in mean.default(X[[i]], ...):\n",
      "“argument is not numeric or logical: returning NA”Warning message in mean.default(X[[i]], ...):\n",
      "“argument is not numeric or logical: returning NA”Warning message in mean.default(X[[i]], ...):\n",
      "“argument is not numeric or logical: returning NA”Warning message in mean.default(X[[i]], ...):\n",
      "“argument is not numeric or logical: returning NA”Warning message in mean.default(X[[i]], ...):\n",
      "“argument is not numeric or logical: returning NA”Warning message in mean.default(X[[i]], ...):\n",
      "“argument is not numeric or logical: returning NA”Warning message in mean.default(X[[i]], ...):\n",
      "“argument is not numeric or logical: returning NA”Warning message in mean.default(X[[i]], ...):\n",
      "“argument is not numeric or logical: returning NA”Warning message in mean.default(X[[i]], ...):\n",
      "“argument is not numeric or logical: returning NA”Warning message in mean.default(X[[i]], ...):\n",
      "“argument is not numeric or logical: returning NA”Warning message in mean.default(X[[i]], ...):\n",
      "“argument is not numeric or logical: returning NA”Warning message in mean.default(X[[i]], ...):\n",
      "“argument is not numeric or logical: returning NA”Warning message in mean.default(X[[i]], ...):\n",
      "“argument is not numeric or logical: returning NA”Warning message in mean.default(X[[i]], ...):\n",
      "“argument is not numeric or logical: returning NA”Warning message in mean.default(X[[i]], ...):\n",
      "“argument is not numeric or logical: returning NA”Warning message in mean.default(X[[i]], ...):\n",
      "“argument is not numeric or logical: returning NA”Warning message in mean.default(X[[i]], ...):\n",
      "“argument is not numeric or logical: returning NA”Warning message in mean.default(X[[i]], ...):\n",
      "“argument is not numeric or logical: returning NA”Warning message in mean.default(X[[i]], ...):\n",
      "“argument is not numeric or logical: returning NA”Warning message in mean.default(X[[i]], ...):\n",
      "“argument is not numeric or logical: returning NA”Warning message in mean.default(X[[i]], ...):\n",
      "“argument is not numeric or logical: returning NA”Warning message in mean.default(X[[i]], ...):\n",
      "“argument is not numeric or logical: returning NA”Warning message in mean.default(X[[i]], ...):\n",
      "“argument is not numeric or logical: returning NA”Warning message in mean.default(X[[i]], ...):\n",
      "“argument is not numeric or logical: returning NA”Warning message in mean.default(X[[i]], ...):\n",
      "“argument is not numeric or logical: returning NA”Warning message in mean.default(X[[i]], ...):\n",
      "“argument is not numeric or logical: returning NA”Warning message in mean.default(X[[i]], ...):\n",
      "“argument is not numeric or logical: returning NA”Warning message in mean.default(X[[i]], ...):\n",
      "“argument is not numeric or logical: returning NA”Warning message in mean.default(X[[i]], ...):\n",
      "“argument is not numeric or logical: returning NA”Warning message in mean.default(X[[i]], ...):\n",
      "“argument is not numeric or logical: returning NA”Warning message in mean.default(X[[i]], ...):\n",
      "“argument is not numeric or logical: returning NA”Warning message in mean.default(X[[i]], ...):\n",
      "“argument is not numeric or logical: returning NA”Warning message in mean.default(X[[i]], ...):\n",
      "“argument is not numeric or logical: returning NA”Warning message in mean.default(X[[i]], ...):\n",
      "“argument is not numeric or logical: returning NA”Warning message in mean.default(X[[i]], ...):\n",
      "“argument is not numeric or logical: returning NA”Warning message in mean.default(X[[i]], ...):\n",
      "“argument is not numeric or logical: returning NA”Warning message in mean.default(X[[i]], ...):\n",
      "“argument is not numeric or logical: returning NA”Warning message in mean.default(X[[i]], ...):\n",
      "“argument is not numeric or logical: returning NA”Warning message in mean.default(X[[i]], ...):\n",
      "“argument is not numeric or logical: returning NA”Warning message in mean.default(X[[i]], ...):\n",
      "“argument is not numeric or logical: returning NA”Warning message in mean.default(X[[i]], ...):\n",
      "“argument is not numeric or logical: returning NA”Warning message in mean.default(X[[i]], ...):\n",
      "“argument is not numeric or logical: returning NA”Warning message in mean.default(X[[i]], ...):\n",
      "“argument is not numeric or logical: returning NA”Warning message in mean.default(X[[i]], ...):\n",
      "“argument is not numeric or logical: returning NA”Warning message in mean.default(X[[i]], ...):\n",
      "“argument is not numeric or logical: returning NA”Warning message in mean.default(X[[i]], ...):\n",
      "“argument is not numeric or logical: returning NA”"
     ]
    },
    {
     "data": {
      "text/html": [
       "<table>\n",
       "<caption>A data.frame: 6 × 11</caption>\n",
       "<thead>\n",
       "\t<tr><th scope=col>Group.1</th><th scope=col>NC_Accession</th><th scope=col>Identity.or.Parentage</th><th scope=col>Pedigree</th><th scope=col>FAG</th><th scope=col>Year</th><th scope=col>Location</th><th scope=col>Name</th><th scope=col>Label</th><th scope=col>Rating</th><th scope=col>Disease</th></tr>\n",
       "\t<tr><th scope=col>&lt;fct&gt;</th><th scope=col>&lt;dbl&gt;</th><th scope=col>&lt;dbl&gt;</th><th scope=col>&lt;dbl&gt;</th><th scope=col>&lt;dbl&gt;</th><th scope=col>&lt;dbl&gt;</th><th scope=col>&lt;dbl&gt;</th><th scope=col>&lt;dbl&gt;</th><th scope=col>&lt;dbl&gt;</th><th scope=col>&lt;dbl&gt;</th><th scope=col>&lt;dbl&gt;</th></tr>\n",
       "</thead>\n",
       "<tbody>\n",
       "\t<tr><td>Bailey   </td><td>NA</td><td>NA</td><td>NA</td><td>NA</td><td>2013.267</td><td>NA</td><td>NA</td><td>NA</td><td>NA</td><td>1657.568</td></tr>\n",
       "\t<tr><td>Bailey II</td><td>NA</td><td>NA</td><td>NA</td><td>NA</td><td>2015.375</td><td>NA</td><td>NA</td><td>NA</td><td>NA</td><td>1591.741</td></tr>\n",
       "\t<tr><td>Emery    </td><td>NA</td><td>NA</td><td>NA</td><td>NA</td><td>2015.167</td><td>NA</td><td>NA</td><td>NA</td><td>NA</td><td>1490.805</td></tr>\n",
       "\t<tr><td>Sullivan </td><td>NA</td><td>NA</td><td>NA</td><td>NA</td><td>2014.467</td><td>NA</td><td>NA</td><td>NA</td><td>NA</td><td>1453.389</td></tr>\n",
       "\t<tr><td>Wynne    </td><td>NA</td><td>NA</td><td>NA</td><td>NA</td><td>2014.375</td><td>NA</td><td>NA</td><td>NA</td><td>NA</td><td>1491.826</td></tr>\n",
       "\t<tr><td>N96076   </td><td>NA</td><td>NA</td><td>NA</td><td>NA</td><td>2014.500</td><td>NA</td><td>NA</td><td>NA</td><td>NA</td><td>1544.256</td></tr>\n",
       "</tbody>\n",
       "</table>\n"
      ],
      "text/latex": [
       "A data.frame: 6 × 11\n",
       "\\begin{tabular}{r|lllllllllll}\n",
       " Group.1 & NC\\_Accession & Identity.or.Parentage & Pedigree & FAG & Year & Location & Name & Label & Rating & Disease\\\\\n",
       " <fct> & <dbl> & <dbl> & <dbl> & <dbl> & <dbl> & <dbl> & <dbl> & <dbl> & <dbl> & <dbl>\\\\\n",
       "\\hline\n",
       "\t Bailey    & NA & NA & NA & NA & 2013.267 & NA & NA & NA & NA & 1657.568\\\\\n",
       "\t Bailey II & NA & NA & NA & NA & 2015.375 & NA & NA & NA & NA & 1591.741\\\\\n",
       "\t Emery     & NA & NA & NA & NA & 2015.167 & NA & NA & NA & NA & 1490.805\\\\\n",
       "\t Sullivan  & NA & NA & NA & NA & 2014.467 & NA & NA & NA & NA & 1453.389\\\\\n",
       "\t Wynne     & NA & NA & NA & NA & 2014.375 & NA & NA & NA & NA & 1491.826\\\\\n",
       "\t N96076    & NA & NA & NA & NA & 2014.500 & NA & NA & NA & NA & 1544.256\\\\\n",
       "\\end{tabular}\n"
      ],
      "text/markdown": [
       "\n",
       "A data.frame: 6 × 11\n",
       "\n",
       "| Group.1 &lt;fct&gt; | NC_Accession &lt;dbl&gt; | Identity.or.Parentage &lt;dbl&gt; | Pedigree &lt;dbl&gt; | FAG &lt;dbl&gt; | Year &lt;dbl&gt; | Location &lt;dbl&gt; | Name &lt;dbl&gt; | Label &lt;dbl&gt; | Rating &lt;dbl&gt; | Disease &lt;dbl&gt; |\n",
       "|---|---|---|---|---|---|---|---|---|---|---|\n",
       "| Bailey    | NA | NA | NA | NA | 2013.267 | NA | NA | NA | NA | 1657.568 |\n",
       "| Bailey II | NA | NA | NA | NA | 2015.375 | NA | NA | NA | NA | 1591.741 |\n",
       "| Emery     | NA | NA | NA | NA | 2015.167 | NA | NA | NA | NA | 1490.805 |\n",
       "| Sullivan  | NA | NA | NA | NA | 2014.467 | NA | NA | NA | NA | 1453.389 |\n",
       "| Wynne     | NA | NA | NA | NA | 2014.375 | NA | NA | NA | NA | 1491.826 |\n",
       "| N96076    | NA | NA | NA | NA | 2014.500 | NA | NA | NA | NA | 1544.256 |\n",
       "\n"
      ],
      "text/plain": [
       "  Group.1   NC_Accession Identity.or.Parentage Pedigree FAG Year     Location\n",
       "1 Bailey    NA           NA                    NA       NA  2013.267 NA      \n",
       "2 Bailey II NA           NA                    NA       NA  2015.375 NA      \n",
       "3 Emery     NA           NA                    NA       NA  2015.167 NA      \n",
       "4 Sullivan  NA           NA                    NA       NA  2014.467 NA      \n",
       "5 Wynne     NA           NA                    NA       NA  2014.375 NA      \n",
       "6 N96076    NA           NA                    NA       NA  2014.500 NA      \n",
       "  Name Label Rating Disease \n",
       "1 NA   NA    NA     1657.568\n",
       "2 NA   NA    NA     1591.741\n",
       "3 NA   NA    NA     1490.805\n",
       "4 NA   NA    NA     1453.389\n",
       "5 NA   NA    NA     1491.826\n",
       "6 NA   NA    NA     1544.256"
      ]
     },
     "metadata": {},
     "output_type": "display_data"
    }
   ],
   "source": [
    "aggregate(leaf.spot.subset, by = list(Line = NC_Accession), FUN = mean)"
   ]
  },
  {
   "cell_type": "markdown",
   "metadata": {},
   "source": [
    "11. Load the libarary XLSX and output the aggregated dataframe as Leaf Spot.xlsx "
   ]
  },
  {
   "cell_type": "code",
   "execution_count": null,
   "metadata": {},
   "outputs": [],
   "source": []
  }
 ],
 "metadata": {
  "kernelspec": {
   "display_name": "R",
   "language": "R",
   "name": "ir"
  },
  "language_info": {
   "codemirror_mode": "r",
   "file_extension": ".r",
   "mimetype": "text/x-r-source",
   "name": "R",
   "pygments_lexer": "r",
   "version": "3.6.1"
  }
 },
 "nbformat": 4,
 "nbformat_minor": 2
}
