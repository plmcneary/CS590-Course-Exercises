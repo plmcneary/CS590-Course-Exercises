{
 "cells": [
  {
   "cell_type": "markdown",
   "metadata": {},
   "source": [
    "![](logo.png)"
   ]
  },
  {
   "cell_type": "markdown",
   "metadata": {},
   "source": [
    "# <font color='red'>Introduction to R Dataframes Exercise</font>\n",
    "\n",
    "The last two weeks focused on R dataframes, specifically input of files to dataframes, indexing a selecting subsets of data, merging (joining), and output of dataframes to various files. This exercise is designed to review the materials coverd in the Week 4 and 5 lectures."
   ]
  },
  {
   "cell_type": "markdown",
   "metadata": {},
   "source": [
    "1. Recreate the following dataframe by using vectors and the data.frame function"
   ]
  },
  {
   "cell_type": "code",
   "execution_count": null,
   "metadata": {},
   "outputs": [],
   "source": [
    "### Write Code Here"
   ]
  },
  {
   "cell_type": "code",
   "execution_count": 1,
   "metadata": {},
   "outputs": [
    {
     "data": {
      "text/html": [
       "<table>\n",
       "<caption>A data.frame: 5 × 3</caption>\n",
       "<thead>\n",
       "\t<tr><th></th><th scope=col>OL_Ratio</th><th scope=col>Leaf_Spot</th><th scope=col>Drought</th></tr>\n",
       "\t<tr><th></th><th scope=col>&lt;dbl&gt;</th><th scope=col>&lt;dbl&gt;</th><th scope=col>&lt;lgl&gt;</th></tr>\n",
       "</thead>\n",
       "<tbody>\n",
       "\t<tr><th scope=row>N12006</th><td>76.2</td><td>5.5</td><td> TRUE</td></tr>\n",
       "\t<tr><th scope=row>N13003</th><td>82.1</td><td>7.2</td><td>FALSE</td></tr>\n",
       "\t<tr><th scope=row>N13042</th><td>78.9</td><td>6.5</td><td> TRUE</td></tr>\n",
       "\t<tr><th scope=row>N14002</th><td>74.3</td><td>4.2</td><td>FALSE</td></tr>\n",
       "\t<tr><th scope=row>N16021</th><td>77.7</td><td>3.1</td><td>FALSE</td></tr>\n",
       "</tbody>\n",
       "</table>\n"
      ],
      "text/latex": [
       "A data.frame: 5 × 3\n",
       "\\begin{tabular}{r|lll}\n",
       "  & OL\\_Ratio & Leaf\\_Spot & Drought\\\\\n",
       "  & <dbl> & <dbl> & <lgl>\\\\\n",
       "\\hline\n",
       "\tN12006 & 76.2 & 5.5 &  TRUE\\\\\n",
       "\tN13003 & 82.1 & 7.2 & FALSE\\\\\n",
       "\tN13042 & 78.9 & 6.5 &  TRUE\\\\\n",
       "\tN14002 & 74.3 & 4.2 & FALSE\\\\\n",
       "\tN16021 & 77.7 & 3.1 & FALSE\\\\\n",
       "\\end{tabular}\n"
      ],
      "text/markdown": [
       "\n",
       "A data.frame: 5 × 3\n",
       "\n",
       "| <!--/--> | OL_Ratio &lt;dbl&gt; | Leaf_Spot &lt;dbl&gt; | Drought &lt;lgl&gt; |\n",
       "|---|---|---|---|\n",
       "| N12006 | 76.2 | 5.5 |  TRUE |\n",
       "| N13003 | 82.1 | 7.2 | FALSE |\n",
       "| N13042 | 78.9 | 6.5 |  TRUE |\n",
       "| N14002 | 74.3 | 4.2 | FALSE |\n",
       "| N16021 | 77.7 | 3.1 | FALSE |\n",
       "\n"
      ],
      "text/plain": [
       "       OL_Ratio Leaf_Spot Drought\n",
       "N12006 76.2     5.5        TRUE  \n",
       "N13003 82.1     7.2       FALSE  \n",
       "N13042 78.9     6.5        TRUE  \n",
       "N14002 74.3     4.2       FALSE  \n",
       "N16021 77.7     3.1       FALSE  "
      ]
     },
     "metadata": {},
     "output_type": "display_data"
    }
   ],
   "source": []
  },
  {
   "cell_type": "markdown",
   "metadata": {},
   "source": [
    "2. Which lines are considered drought tolerant?"
   ]
  },
  {
   "cell_type": "code",
   "execution_count": null,
   "metadata": {},
   "outputs": [],
   "source": []
  },
  {
   "cell_type": "markdown",
   "metadata": {},
   "source": [
    "3. Input the peanut_lines (CSV) and peanut_disease (Tab) datafile"
   ]
  },
  {
   "cell_type": "code",
   "execution_count": null,
   "metadata": {},
   "outputs": [],
   "source": []
  },
  {
   "cell_type": "markdown",
   "metadata": {},
   "source": [
    "4. Check the column names of peanut_lines and peanut_disease"
   ]
  },
  {
   "cell_type": "code",
   "execution_count": null,
   "metadata": {},
   "outputs": [],
   "source": []
  },
  {
   "cell_type": "markdown",
   "metadata": {},
   "source": [
    "5. Merge peanut_lines and peanut_disease keeping the entirety of the peanut_disease information intact - Name the data frame disease_data"
   ]
  },
  {
   "cell_type": "code",
   "execution_count": null,
   "metadata": {},
   "outputs": [],
   "source": []
  },
  {
   "cell_type": "markdown",
   "metadata": {},
   "source": [
    "6. Subset the disease data to list only ratings for leaf spot ('LS') in a dataframe called leaf.spot"
   ]
  },
  {
   "cell_type": "code",
   "execution_count": null,
   "metadata": {},
   "outputs": [],
   "source": []
  },
  {
   "cell_type": "markdown",
   "metadata": {},
   "source": [
    "7. Drop all rows that contain missing values in the column 'Disease'"
   ]
  },
  {
   "cell_type": "code",
   "execution_count": null,
   "metadata": {},
   "outputs": [],
   "source": []
  },
  {
   "cell_type": "markdown",
   "metadata": {},
   "source": [
    "8. What was the average leaf spot rating in 2017?"
   ]
  },
  {
   "cell_type": "code",
   "execution_count": null,
   "metadata": {},
   "outputs": [],
   "source": []
  },
  {
   "cell_type": "markdown",
   "metadata": {},
   "source": [
    "9. Subset the leaf.spot dataframe to include only the following lines \n",
    "<br>Hint: Look up %in% from the following reference - [R Tutorials Operators](https://www.tutorialspoint.com/r/r_operators.htm)\n",
    "\n",
    "<br>line_names = 'Bailey', 'Bailey II', 'Wynne', 'Sullivan', 'Emery', 'N96076'"
   ]
  },
  {
   "cell_type": "code",
   "execution_count": null,
   "metadata": {},
   "outputs": [],
   "source": []
  },
  {
   "cell_type": "markdown",
   "metadata": {},
   "source": [
    "10. Which line is the most leaf spot resistant?"
   ]
  },
  {
   "cell_type": "code",
   "execution_count": null,
   "metadata": {},
   "outputs": [],
   "source": [
    "help(aggregate)"
   ]
  },
  {
   "cell_type": "code",
   "execution_count": null,
   "metadata": {
    "scrolled": true
   },
   "outputs": [],
   "source": []
  },
  {
   "cell_type": "markdown",
   "metadata": {},
   "source": [
    "11. Load the libarary XLSX and output the aggregated dataframe as Leaf Spot.xlsx "
   ]
  },
  {
   "cell_type": "code",
   "execution_count": null,
   "metadata": {},
   "outputs": [],
   "source": []
  }
 ],
 "metadata": {
  "kernelspec": {
   "display_name": "R",
   "language": "R",
   "name": "ir"
  },
  "language_info": {
   "codemirror_mode": "r",
   "file_extension": ".r",
   "mimetype": "text/x-r-source",
   "name": "R",
   "pygments_lexer": "r",
   "version": "3.6.1"
  }
 },
 "nbformat": 4,
 "nbformat_minor": 2
}
